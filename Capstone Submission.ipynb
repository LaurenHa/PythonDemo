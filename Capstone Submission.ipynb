{
 "cells": [
  {
   "cell_type": "markdown",
   "metadata": {},
   "source": [
    "# GA Capstone Project\n",
    "## Lauren Leeman, 26MAR20"
   ]
  },
  {
   "cell_type": "markdown",
   "metadata": {},
   "source": [
    "### Outline\n",
    "<b>Goal:</b> Predict the likelihood of overreaction / panic to the threat of Coronavirus in areas surrounding newly confirmed cases.  \n",
    "<b>Uses:</b> Targeted public education. Stockpiling of perceived effective medical supplies.  \n",
    "<b>Outcome:</b> Increase of fear sentiment on Twitter in the surrounding 40 mile radius, following the confirmation of a new coronavirus case.\n",
    "\n",
    "<b><u>Definitions</u></b>  \n",
    "<b>New:</b> Within 3 days after CDC announces new cases.    \n",
    "<b>Fear:</b> NLP based. Define more specifically using existing NLP emotion literature.  \n",
    "<b>Surrounding:</b> Within 40 miles of county center.  "
   ]
  },
  {
   "cell_type": "markdown",
   "metadata": {},
   "source": [
    "Data is here: https://drive.google.com/drive/folders/1imDptr1-WI9BrXK7pu6QIPjOaWV5fgJD?usp=sharing"
   ]
  },
  {
   "cell_type": "markdown",
   "metadata": {},
   "source": [
    "### Setup"
   ]
  },
  {
   "cell_type": "code",
   "execution_count": 1,
   "metadata": {},
   "outputs": [],
   "source": [
    "# !pip install twitterscraper\n",
    "# !pip install WordCloud"
   ]
  },
  {
   "cell_type": "code",
   "execution_count": 2,
   "metadata": {},
   "outputs": [
    {
     "name": "stderr",
     "output_type": "stream",
     "text": [
      "INFO: {'User-Agent': 'Mozilla/5.0 (Windows; U; Windows NT 6.1; x64; fr; rv:1.9.2.13) Gecko/20101203 Firebird/3.6.13'}\n",
      "C:\\Users\\laure\\Anaconda3\\lib\\site-packages\\statsmodels\\tools\\_testing.py:19: FutureWarning: pandas.util.testing is deprecated. Use the functions in the public API at pandas.testing instead.\n",
      "  import pandas.util.testing as tm\n"
     ]
    }
   ],
   "source": [
    "from wordcloud import WordCloud\n",
    "import twitterscraper\n",
    "from twitterscraper.query import query_user_info\n",
    "from twitterscraper import query_tweets\n",
    "import pandas as pd\n",
    "import datetime\n",
    "import matplotlib.pyplot as plt\n",
    "import seaborn as sns\n",
    "from datetime import date,timedelta\n",
    "from nltk import word_tokenize\n",
    "from nltk.stem.snowball import SnowballStemmer\n",
    "from nltk.corpus import stopwords\n",
    "import numpy as np\n",
    "import string\n",
    "from nltk import TweetTokenizer\n",
    "import os\n",
    "from IPython.display import display\n",
    "from sklearn.linear_model import LogisticRegression\n",
    "from sklearn.model_selection import train_test_split\n",
    "from sklearn.preprocessing import StandardScaler\n",
    "from sklearn.model_selection import GridSearchCV \n",
    "from sklearn.metrics import roc_curve, auc, confusion_matrix\n",
    "from sklearn.neighbors import KNeighborsClassifier\n",
    "from sklearn import metrics\n",
    "from sklearn.ensemble import GradientBoostingClassifier\n",
    "from sklearn.tree import DecisionTreeClassifier\n",
    "\n",
    "pd.set_option('display.max_colwidth', None)\n",
    "\n",
    "def fullprint(df):\n",
    "    with pd.option_context('display.max_rows', None, 'display.max_columns', None):\n",
    "        display(df)"
   ]
  },
  {
   "cell_type": "markdown",
   "metadata": {},
   "source": [
    "### Data Source #1: COVID-19 Confirmed Cases"
   ]
  },
  {
   "cell_type": "markdown",
   "metadata": {},
   "source": [
    "COVID-19 aggregated data by Johns Hopkins can be found here:\n",
    "https://github.com/CSSEGISandData/COVID-19"
   ]
  },
  {
   "cell_type": "markdown",
   "metadata": {},
   "source": [
    "#### Data Dictionary\n",
    "* **Province/State**: Province or State where confirmed case occurred.\n",
    "* **Country/Region**: Country or Region where confirmed case occurred.\n",
    "* **Lat**: Latitude of confirmed case. Centralized by county.\n",
    "* **Long**: Longitude of confirmed case. Centralized by county.\n",
    "* **1/22/20** (and all date variables): Number of confirmed cases UP UNTIL AND INCLUDING THAT DATE. COLUMNS ARE CUMULATIVE.\n",
    "\n",
    "Note, the data pulled for this project as of 27MAR20 is just through March 7, 2020. This is 131 unique combinations of dates and locations within the United States where there was at least one new confirmed case. The Twitter data scraping and subsequent tokenizing is computationally expensive, and it is for this reason that the data stops at March 7. If I move the notebook to AWS in the future, processing power will no longer be an issue."
   ]
  },
  {
   "cell_type": "code",
   "execution_count": 3,
   "metadata": {},
   "outputs": [],
   "source": [
    "path = './covid-19/csse_covid_19_data/csse_covid_19_time_series/time_series_19-covid-confirmed.csv'\n",
    "covid = pd.read_csv(path)"
   ]
  },
  {
   "cell_type": "code",
   "execution_count": 4,
   "metadata": {},
   "outputs": [
    {
     "data": {
      "text/html": [
       "<div>\n",
       "<style scoped>\n",
       "    .dataframe tbody tr th:only-of-type {\n",
       "        vertical-align: middle;\n",
       "    }\n",
       "\n",
       "    .dataframe tbody tr th {\n",
       "        vertical-align: top;\n",
       "    }\n",
       "\n",
       "    .dataframe thead th {\n",
       "        text-align: right;\n",
       "    }\n",
       "</style>\n",
       "<table border=\"1\" class=\"dataframe\">\n",
       "  <thead>\n",
       "    <tr style=\"text-align: right;\">\n",
       "      <th></th>\n",
       "      <th>Province/State</th>\n",
       "      <th>Country/Region</th>\n",
       "      <th>Lat</th>\n",
       "      <th>Long</th>\n",
       "      <th>1/22/20</th>\n",
       "      <th>1/23/20</th>\n",
       "      <th>1/24/20</th>\n",
       "      <th>1/25/20</th>\n",
       "      <th>1/26/20</th>\n",
       "      <th>1/27/20</th>\n",
       "      <th>...</th>\n",
       "      <th>2/27/20</th>\n",
       "      <th>2/28/20</th>\n",
       "      <th>2/29/20</th>\n",
       "      <th>3/1/20</th>\n",
       "      <th>3/2/20</th>\n",
       "      <th>3/3/20</th>\n",
       "      <th>3/4/20</th>\n",
       "      <th>3/5/20</th>\n",
       "      <th>3/6/20</th>\n",
       "      <th>3/7/20</th>\n",
       "    </tr>\n",
       "  </thead>\n",
       "  <tbody>\n",
       "    <tr>\n",
       "      <th>0</th>\n",
       "      <td>Anhui</td>\n",
       "      <td>Mainland China</td>\n",
       "      <td>31.8257</td>\n",
       "      <td>117.2264</td>\n",
       "      <td>1</td>\n",
       "      <td>9</td>\n",
       "      <td>15</td>\n",
       "      <td>39</td>\n",
       "      <td>60</td>\n",
       "      <td>70</td>\n",
       "      <td>...</td>\n",
       "      <td>989</td>\n",
       "      <td>990</td>\n",
       "      <td>990</td>\n",
       "      <td>990</td>\n",
       "      <td>990</td>\n",
       "      <td>990</td>\n",
       "      <td>990</td>\n",
       "      <td>990</td>\n",
       "      <td>990</td>\n",
       "      <td>990</td>\n",
       "    </tr>\n",
       "    <tr>\n",
       "      <th>1</th>\n",
       "      <td>Beijing</td>\n",
       "      <td>Mainland China</td>\n",
       "      <td>40.1824</td>\n",
       "      <td>116.4142</td>\n",
       "      <td>14</td>\n",
       "      <td>22</td>\n",
       "      <td>36</td>\n",
       "      <td>41</td>\n",
       "      <td>68</td>\n",
       "      <td>80</td>\n",
       "      <td>...</td>\n",
       "      <td>410</td>\n",
       "      <td>410</td>\n",
       "      <td>411</td>\n",
       "      <td>413</td>\n",
       "      <td>414</td>\n",
       "      <td>414</td>\n",
       "      <td>418</td>\n",
       "      <td>418</td>\n",
       "      <td>422</td>\n",
       "      <td>426</td>\n",
       "    </tr>\n",
       "    <tr>\n",
       "      <th>2</th>\n",
       "      <td>Chongqing</td>\n",
       "      <td>Mainland China</td>\n",
       "      <td>30.0572</td>\n",
       "      <td>107.8740</td>\n",
       "      <td>6</td>\n",
       "      <td>9</td>\n",
       "      <td>27</td>\n",
       "      <td>57</td>\n",
       "      <td>75</td>\n",
       "      <td>110</td>\n",
       "      <td>...</td>\n",
       "      <td>576</td>\n",
       "      <td>576</td>\n",
       "      <td>576</td>\n",
       "      <td>576</td>\n",
       "      <td>576</td>\n",
       "      <td>576</td>\n",
       "      <td>576</td>\n",
       "      <td>576</td>\n",
       "      <td>576</td>\n",
       "      <td>576</td>\n",
       "    </tr>\n",
       "    <tr>\n",
       "      <th>3</th>\n",
       "      <td>Fujian</td>\n",
       "      <td>Mainland China</td>\n",
       "      <td>26.0789</td>\n",
       "      <td>117.9874</td>\n",
       "      <td>1</td>\n",
       "      <td>5</td>\n",
       "      <td>10</td>\n",
       "      <td>18</td>\n",
       "      <td>35</td>\n",
       "      <td>59</td>\n",
       "      <td>...</td>\n",
       "      <td>296</td>\n",
       "      <td>296</td>\n",
       "      <td>296</td>\n",
       "      <td>296</td>\n",
       "      <td>296</td>\n",
       "      <td>296</td>\n",
       "      <td>296</td>\n",
       "      <td>296</td>\n",
       "      <td>296</td>\n",
       "      <td>296</td>\n",
       "    </tr>\n",
       "    <tr>\n",
       "      <th>4</th>\n",
       "      <td>Gansu</td>\n",
       "      <td>Mainland China</td>\n",
       "      <td>36.0611</td>\n",
       "      <td>103.8343</td>\n",
       "      <td>0</td>\n",
       "      <td>2</td>\n",
       "      <td>2</td>\n",
       "      <td>4</td>\n",
       "      <td>7</td>\n",
       "      <td>14</td>\n",
       "      <td>...</td>\n",
       "      <td>91</td>\n",
       "      <td>91</td>\n",
       "      <td>91</td>\n",
       "      <td>91</td>\n",
       "      <td>91</td>\n",
       "      <td>91</td>\n",
       "      <td>91</td>\n",
       "      <td>102</td>\n",
       "      <td>119</td>\n",
       "      <td>120</td>\n",
       "    </tr>\n",
       "  </tbody>\n",
       "</table>\n",
       "<p>5 rows × 50 columns</p>\n",
       "</div>"
      ],
      "text/plain": [
       "  Province/State  Country/Region      Lat      Long  1/22/20  1/23/20  \\\n",
       "0          Anhui  Mainland China  31.8257  117.2264        1        9   \n",
       "1        Beijing  Mainland China  40.1824  116.4142       14       22   \n",
       "2      Chongqing  Mainland China  30.0572  107.8740        6        9   \n",
       "3         Fujian  Mainland China  26.0789  117.9874        1        5   \n",
       "4          Gansu  Mainland China  36.0611  103.8343        0        2   \n",
       "\n",
       "   1/24/20  1/25/20  1/26/20  1/27/20  ...  2/27/20  2/28/20  2/29/20  3/1/20  \\\n",
       "0       15       39       60       70  ...      989      990      990     990   \n",
       "1       36       41       68       80  ...      410      410      411     413   \n",
       "2       27       57       75      110  ...      576      576      576     576   \n",
       "3       10       18       35       59  ...      296      296      296     296   \n",
       "4        2        4        7       14  ...       91       91       91      91   \n",
       "\n",
       "   3/2/20  3/3/20  3/4/20  3/5/20  3/6/20  3/7/20  \n",
       "0     990     990     990     990     990     990  \n",
       "1     414     414     418     418     422     426  \n",
       "2     576     576     576     576     576     576  \n",
       "3     296     296     296     296     296     296  \n",
       "4      91      91      91     102     119     120  \n",
       "\n",
       "[5 rows x 50 columns]"
      ]
     },
     "execution_count": 4,
     "metadata": {},
     "output_type": "execute_result"
    }
   ],
   "source": [
    "covid.head()"
   ]
  },
  {
   "cell_type": "markdown",
   "metadata": {},
   "source": [
    "Check the Country/Region values, to subset."
   ]
  },
  {
   "cell_type": "code",
   "execution_count": 5,
   "metadata": {},
   "outputs": [
    {
     "name": "stdout",
     "output_type": "stream",
     "text": [
      "US                        82\n",
      "Mainland China            31\n",
      "Australia                  8\n",
      "Canada                     6\n",
      "Bosnia and Herzegovina     1\n",
      "                          ..\n",
      "Macau                      1\n",
      "Dominican Republic         1\n",
      "Poland                     1\n",
      "Slovenia                   1\n",
      "Saudi Arabia               1\n",
      "Name: Country/Region, Length: 102, dtype: int64\n"
     ]
    }
   ],
   "source": [
    "print((covid['Country/Region'].value_counts())) "
   ]
  },
  {
   "cell_type": "markdown",
   "metadata": {},
   "source": [
    "The above may make it look like the US has more cases than Mainland China. That's just because the US data rows are broken out by county/state. It's more granular location data than what's available for Mainland China."
   ]
  },
  {
   "cell_type": "code",
   "execution_count": 6,
   "metadata": {},
   "outputs": [],
   "source": [
    "covid_us = covid[covid['Country/Region']=='US']"
   ]
  },
  {
   "cell_type": "code",
   "execution_count": 7,
   "metadata": {},
   "outputs": [
    {
     "data": {
      "text/html": [
       "<div>\n",
       "<style scoped>\n",
       "    .dataframe tbody tr th:only-of-type {\n",
       "        vertical-align: middle;\n",
       "    }\n",
       "\n",
       "    .dataframe tbody tr th {\n",
       "        vertical-align: top;\n",
       "    }\n",
       "\n",
       "    .dataframe thead th {\n",
       "        text-align: right;\n",
       "    }\n",
       "</style>\n",
       "<table border=\"1\" class=\"dataframe\">\n",
       "  <thead>\n",
       "    <tr style=\"text-align: right;\">\n",
       "      <th></th>\n",
       "      <th>Province/State</th>\n",
       "      <th>Country/Region</th>\n",
       "      <th>Lat</th>\n",
       "      <th>Long</th>\n",
       "      <th>1/22/20</th>\n",
       "      <th>1/23/20</th>\n",
       "      <th>1/24/20</th>\n",
       "      <th>1/25/20</th>\n",
       "      <th>1/26/20</th>\n",
       "      <th>1/27/20</th>\n",
       "      <th>...</th>\n",
       "      <th>2/27/20</th>\n",
       "      <th>2/28/20</th>\n",
       "      <th>2/29/20</th>\n",
       "      <th>3/1/20</th>\n",
       "      <th>3/2/20</th>\n",
       "      <th>3/3/20</th>\n",
       "      <th>3/4/20</th>\n",
       "      <th>3/5/20</th>\n",
       "      <th>3/6/20</th>\n",
       "      <th>3/7/20</th>\n",
       "    </tr>\n",
       "  </thead>\n",
       "  <tbody>\n",
       "    <tr>\n",
       "      <th>35</th>\n",
       "      <td>King County, WA</td>\n",
       "      <td>US</td>\n",
       "      <td>47.6062</td>\n",
       "      <td>-122.3321</td>\n",
       "      <td>1</td>\n",
       "      <td>1</td>\n",
       "      <td>1</td>\n",
       "      <td>1</td>\n",
       "      <td>1</td>\n",
       "      <td>1</td>\n",
       "      <td>...</td>\n",
       "      <td>1</td>\n",
       "      <td>1</td>\n",
       "      <td>6</td>\n",
       "      <td>9</td>\n",
       "      <td>14</td>\n",
       "      <td>21</td>\n",
       "      <td>31</td>\n",
       "      <td>51</td>\n",
       "      <td>58</td>\n",
       "      <td>71</td>\n",
       "    </tr>\n",
       "    <tr>\n",
       "      <th>36</th>\n",
       "      <td>Cook County, IL</td>\n",
       "      <td>US</td>\n",
       "      <td>41.7377</td>\n",
       "      <td>-87.6976</td>\n",
       "      <td>0</td>\n",
       "      <td>0</td>\n",
       "      <td>1</td>\n",
       "      <td>1</td>\n",
       "      <td>1</td>\n",
       "      <td>1</td>\n",
       "      <td>...</td>\n",
       "      <td>2</td>\n",
       "      <td>2</td>\n",
       "      <td>2</td>\n",
       "      <td>3</td>\n",
       "      <td>4</td>\n",
       "      <td>4</td>\n",
       "      <td>4</td>\n",
       "      <td>5</td>\n",
       "      <td>5</td>\n",
       "      <td>6</td>\n",
       "    </tr>\n",
       "    <tr>\n",
       "      <th>46</th>\n",
       "      <td>Los Angeles, CA</td>\n",
       "      <td>US</td>\n",
       "      <td>34.0522</td>\n",
       "      <td>-118.2437</td>\n",
       "      <td>0</td>\n",
       "      <td>0</td>\n",
       "      <td>0</td>\n",
       "      <td>0</td>\n",
       "      <td>1</td>\n",
       "      <td>1</td>\n",
       "      <td>...</td>\n",
       "      <td>1</td>\n",
       "      <td>1</td>\n",
       "      <td>1</td>\n",
       "      <td>1</td>\n",
       "      <td>1</td>\n",
       "      <td>1</td>\n",
       "      <td>7</td>\n",
       "      <td>11</td>\n",
       "      <td>13</td>\n",
       "      <td>14</td>\n",
       "    </tr>\n",
       "    <tr>\n",
       "      <th>64</th>\n",
       "      <td>San Benito, CA</td>\n",
       "      <td>US</td>\n",
       "      <td>36.5761</td>\n",
       "      <td>-120.9876</td>\n",
       "      <td>0</td>\n",
       "      <td>0</td>\n",
       "      <td>0</td>\n",
       "      <td>0</td>\n",
       "      <td>0</td>\n",
       "      <td>0</td>\n",
       "      <td>...</td>\n",
       "      <td>2</td>\n",
       "      <td>2</td>\n",
       "      <td>2</td>\n",
       "      <td>2</td>\n",
       "      <td>2</td>\n",
       "      <td>2</td>\n",
       "      <td>2</td>\n",
       "      <td>2</td>\n",
       "      <td>2</td>\n",
       "      <td>2</td>\n",
       "    </tr>\n",
       "    <tr>\n",
       "      <th>66</th>\n",
       "      <td>Madison, WI</td>\n",
       "      <td>US</td>\n",
       "      <td>43.0731</td>\n",
       "      <td>-89.4012</td>\n",
       "      <td>0</td>\n",
       "      <td>0</td>\n",
       "      <td>0</td>\n",
       "      <td>0</td>\n",
       "      <td>0</td>\n",
       "      <td>0</td>\n",
       "      <td>...</td>\n",
       "      <td>1</td>\n",
       "      <td>1</td>\n",
       "      <td>1</td>\n",
       "      <td>1</td>\n",
       "      <td>1</td>\n",
       "      <td>1</td>\n",
       "      <td>1</td>\n",
       "      <td>1</td>\n",
       "      <td>1</td>\n",
       "      <td>1</td>\n",
       "    </tr>\n",
       "  </tbody>\n",
       "</table>\n",
       "<p>5 rows × 50 columns</p>\n",
       "</div>"
      ],
      "text/plain": [
       "     Province/State Country/Region      Lat      Long  1/22/20  1/23/20  \\\n",
       "35  King County, WA             US  47.6062 -122.3321        1        1   \n",
       "36  Cook County, IL             US  41.7377  -87.6976        0        0   \n",
       "46  Los Angeles, CA             US  34.0522 -118.2437        0        0   \n",
       "64   San Benito, CA             US  36.5761 -120.9876        0        0   \n",
       "66      Madison, WI             US  43.0731  -89.4012        0        0   \n",
       "\n",
       "    1/24/20  1/25/20  1/26/20  1/27/20  ...  2/27/20  2/28/20  2/29/20  \\\n",
       "35        1        1        1        1  ...        1        1        6   \n",
       "36        1        1        1        1  ...        2        2        2   \n",
       "46        0        0        1        1  ...        1        1        1   \n",
       "64        0        0        0        0  ...        2        2        2   \n",
       "66        0        0        0        0  ...        1        1        1   \n",
       "\n",
       "    3/1/20  3/2/20  3/3/20  3/4/20  3/5/20  3/6/20  3/7/20  \n",
       "35       9      14      21      31      51      58      71  \n",
       "36       3       4       4       4       5       5       6  \n",
       "46       1       1       1       7      11      13      14  \n",
       "64       2       2       2       2       2       2       2  \n",
       "66       1       1       1       1       1       1       1  \n",
       "\n",
       "[5 rows x 50 columns]"
      ]
     },
     "execution_count": 7,
     "metadata": {},
     "output_type": "execute_result"
    }
   ],
   "source": [
    "covid_us.head()"
   ]
  },
  {
   "cell_type": "code",
   "execution_count": 8,
   "metadata": {},
   "outputs": [
    {
     "data": {
      "image/png": "[encoded data removed]",
      "text/plain": [
       "<Figure size 432x288 with 1 Axes>"
      ]
     },
     "metadata": {
      "needs_background": "light"
     },
     "output_type": "display_data"
    }
   ],
   "source": [
    "ax = sns.countplot(y=\"3/7/20\", data=covid_us).set_title('Total Confirmed Counts Per County, as of 3/7/20');\n",
    "plt.ylabel(\"Number of Confirmed Cases\")\n",
    "plt.xlabel(\"Number of Counties\")\n",
    "plt.show()"
   ]
  },
  {
   "cell_type": "markdown",
   "metadata": {},
   "source": [
    "Tranpose the data, to be able to grab just the dates, latitude and longitude associated with new confirmed cases. Data rows above are cumulative."
   ]
  },
  {
   "cell_type": "code",
   "execution_count": 9,
   "metadata": {},
   "outputs": [],
   "source": [
    "datevars=[i for i in covid_us if i not in ['Province/State','Country/Region','Lat','Long']]\n",
    "\n",
    "covid_us_t = pd.melt(covid_us,\n",
    "                 id_vars=['Province/State',\n",
    "                          'Country/Region',\n",
    "                          'Lat',\n",
    "                          'Long'],\n",
    "                  value_vars=datevars,\n",
    "                  var_name='DateCons')"
   ]
  },
  {
   "cell_type": "code",
   "execution_count": 10,
   "metadata": {},
   "outputs": [
    {
     "data": {
      "text/html": [
       "<div>\n",
       "<style scoped>\n",
       "    .dataframe tbody tr th:only-of-type {\n",
       "        vertical-align: middle;\n",
       "    }\n",
       "\n",
       "    .dataframe tbody tr th {\n",
       "        vertical-align: top;\n",
       "    }\n",
       "\n",
       "    .dataframe thead th {\n",
       "        text-align: right;\n",
       "    }\n",
       "</style>\n",
       "<table border=\"1\" class=\"dataframe\">\n",
       "  <thead>\n",
       "    <tr style=\"text-align: right;\">\n",
       "      <th></th>\n",
       "      <th>Province/State</th>\n",
       "      <th>Country/Region</th>\n",
       "      <th>Lat</th>\n",
       "      <th>Long</th>\n",
       "      <th>DateCons</th>\n",
       "      <th>value</th>\n",
       "    </tr>\n",
       "  </thead>\n",
       "  <tbody>\n",
       "    <tr>\n",
       "      <th>0</th>\n",
       "      <td>King County, WA</td>\n",
       "      <td>US</td>\n",
       "      <td>47.6062</td>\n",
       "      <td>-122.3321</td>\n",
       "      <td>1/22/20</td>\n",
       "      <td>1</td>\n",
       "    </tr>\n",
       "    <tr>\n",
       "      <th>1</th>\n",
       "      <td>Cook County, IL</td>\n",
       "      <td>US</td>\n",
       "      <td>41.7377</td>\n",
       "      <td>-87.6976</td>\n",
       "      <td>1/22/20</td>\n",
       "      <td>0</td>\n",
       "    </tr>\n",
       "    <tr>\n",
       "      <th>2</th>\n",
       "      <td>Los Angeles, CA</td>\n",
       "      <td>US</td>\n",
       "      <td>34.0522</td>\n",
       "      <td>-118.2437</td>\n",
       "      <td>1/22/20</td>\n",
       "      <td>0</td>\n",
       "    </tr>\n",
       "    <tr>\n",
       "      <th>3</th>\n",
       "      <td>San Benito, CA</td>\n",
       "      <td>US</td>\n",
       "      <td>36.5761</td>\n",
       "      <td>-120.9876</td>\n",
       "      <td>1/22/20</td>\n",
       "      <td>0</td>\n",
       "    </tr>\n",
       "    <tr>\n",
       "      <th>4</th>\n",
       "      <td>Madison, WI</td>\n",
       "      <td>US</td>\n",
       "      <td>43.0731</td>\n",
       "      <td>-89.4012</td>\n",
       "      <td>1/22/20</td>\n",
       "      <td>0</td>\n",
       "    </tr>\n",
       "  </tbody>\n",
       "</table>\n",
       "</div>"
      ],
      "text/plain": [
       "    Province/State Country/Region      Lat      Long DateCons  value\n",
       "0  King County, WA             US  47.6062 -122.3321  1/22/20      1\n",
       "1  Cook County, IL             US  41.7377  -87.6976  1/22/20      0\n",
       "2  Los Angeles, CA             US  34.0522 -118.2437  1/22/20      0\n",
       "3   San Benito, CA             US  36.5761 -120.9876  1/22/20      0\n",
       "4      Madison, WI             US  43.0731  -89.4012  1/22/20      0"
      ]
     },
     "execution_count": 10,
     "metadata": {},
     "output_type": "execute_result"
    }
   ],
   "source": [
    "covid_us_t.head()"
   ]
  },
  {
   "cell_type": "markdown",
   "metadata": {},
   "source": [
    "Drop rows that are not associated with confirmed cases."
   ]
  },
  {
   "cell_type": "code",
   "execution_count": 11,
   "metadata": {},
   "outputs": [],
   "source": [
    "covid_us_t_pos = covid_us_t[covid_us_t['value']>0]"
   ]
  },
  {
   "cell_type": "code",
   "execution_count": 12,
   "metadata": {},
   "outputs": [
    {
     "data": {
      "text/html": [
       "<div>\n",
       "<style scoped>\n",
       "    .dataframe tbody tr th:only-of-type {\n",
       "        vertical-align: middle;\n",
       "    }\n",
       "\n",
       "    .dataframe tbody tr th {\n",
       "        vertical-align: top;\n",
       "    }\n",
       "\n",
       "    .dataframe thead th {\n",
       "        text-align: right;\n",
       "    }\n",
       "</style>\n",
       "<table border=\"1\" class=\"dataframe\">\n",
       "  <thead>\n",
       "    <tr style=\"text-align: right;\">\n",
       "      <th></th>\n",
       "      <th>Province/State</th>\n",
       "      <th>Country/Region</th>\n",
       "      <th>Lat</th>\n",
       "      <th>Long</th>\n",
       "      <th>DateCons</th>\n",
       "      <th>value</th>\n",
       "    </tr>\n",
       "  </thead>\n",
       "  <tbody>\n",
       "    <tr>\n",
       "      <th>0</th>\n",
       "      <td>King County, WA</td>\n",
       "      <td>US</td>\n",
       "      <td>47.6062</td>\n",
       "      <td>-122.3321</td>\n",
       "      <td>1/22/20</td>\n",
       "      <td>1</td>\n",
       "    </tr>\n",
       "    <tr>\n",
       "      <th>82</th>\n",
       "      <td>King County, WA</td>\n",
       "      <td>US</td>\n",
       "      <td>47.6062</td>\n",
       "      <td>-122.3321</td>\n",
       "      <td>1/23/20</td>\n",
       "      <td>1</td>\n",
       "    </tr>\n",
       "    <tr>\n",
       "      <th>164</th>\n",
       "      <td>King County, WA</td>\n",
       "      <td>US</td>\n",
       "      <td>47.6062</td>\n",
       "      <td>-122.3321</td>\n",
       "      <td>1/24/20</td>\n",
       "      <td>1</td>\n",
       "    </tr>\n",
       "    <tr>\n",
       "      <th>165</th>\n",
       "      <td>Cook County, IL</td>\n",
       "      <td>US</td>\n",
       "      <td>41.7377</td>\n",
       "      <td>-87.6976</td>\n",
       "      <td>1/24/20</td>\n",
       "      <td>1</td>\n",
       "    </tr>\n",
       "    <tr>\n",
       "      <th>246</th>\n",
       "      <td>King County, WA</td>\n",
       "      <td>US</td>\n",
       "      <td>47.6062</td>\n",
       "      <td>-122.3321</td>\n",
       "      <td>1/25/20</td>\n",
       "      <td>1</td>\n",
       "    </tr>\n",
       "  </tbody>\n",
       "</table>\n",
       "</div>"
      ],
      "text/plain": [
       "      Province/State Country/Region      Lat      Long DateCons  value\n",
       "0    King County, WA             US  47.6062 -122.3321  1/22/20      1\n",
       "82   King County, WA             US  47.6062 -122.3321  1/23/20      1\n",
       "164  King County, WA             US  47.6062 -122.3321  1/24/20      1\n",
       "165  Cook County, IL             US  41.7377  -87.6976  1/24/20      1\n",
       "246  King County, WA             US  47.6062 -122.3321  1/25/20      1"
      ]
     },
     "execution_count": 12,
     "metadata": {},
     "output_type": "execute_result"
    }
   ],
   "source": [
    "covid_us_t_pos.head()"
   ]
  },
  {
   "cell_type": "markdown",
   "metadata": {},
   "source": [
    "Keep the first date associated with each new confirmed case."
   ]
  },
  {
   "cell_type": "code",
   "execution_count": 13,
   "metadata": {},
   "outputs": [],
   "source": [
    "covid2 = covid_us_t_pos.groupby(['Province/State','Country/Region','Lat','Long','value']).nth(0).reset_index()"
   ]
  },
  {
   "cell_type": "code",
   "execution_count": 14,
   "metadata": {},
   "outputs": [
    {
     "data": {
      "text/html": [
       "<div>\n",
       "<style scoped>\n",
       "    .dataframe tbody tr th:only-of-type {\n",
       "        vertical-align: middle;\n",
       "    }\n",
       "\n",
       "    .dataframe tbody tr th {\n",
       "        vertical-align: top;\n",
       "    }\n",
       "\n",
       "    .dataframe thead th {\n",
       "        text-align: right;\n",
       "    }\n",
       "</style>\n",
       "<table border=\"1\" class=\"dataframe\">\n",
       "  <thead>\n",
       "    <tr style=\"text-align: right;\">\n",
       "      <th></th>\n",
       "      <th>Province/State</th>\n",
       "      <th>Country/Region</th>\n",
       "      <th>Lat</th>\n",
       "      <th>Long</th>\n",
       "      <th>value</th>\n",
       "      <th>DateCons</th>\n",
       "    </tr>\n",
       "  </thead>\n",
       "  <tbody>\n",
       "    <tr>\n",
       "      <th>0</th>\n",
       "      <td>Norfolk County, MA</td>\n",
       "      <td>US</td>\n",
       "      <td>42.1767</td>\n",
       "      <td>-71.1449</td>\n",
       "      <td>1</td>\n",
       "      <td>3/3/20</td>\n",
       "    </tr>\n",
       "    <tr>\n",
       "      <th>1</th>\n",
       "      <td>Norfolk County, MA</td>\n",
       "      <td>US</td>\n",
       "      <td>42.1767</td>\n",
       "      <td>-71.1449</td>\n",
       "      <td>2</td>\n",
       "      <td>3/6/20</td>\n",
       "    </tr>\n",
       "    <tr>\n",
       "      <th>2</th>\n",
       "      <td>Alameda County, CA</td>\n",
       "      <td>US</td>\n",
       "      <td>37.6017</td>\n",
       "      <td>-121.7195</td>\n",
       "      <td>1</td>\n",
       "      <td>3/3/20</td>\n",
       "    </tr>\n",
       "    <tr>\n",
       "      <th>3</th>\n",
       "      <td>Alameda County, CA</td>\n",
       "      <td>US</td>\n",
       "      <td>37.6017</td>\n",
       "      <td>-121.7195</td>\n",
       "      <td>2</td>\n",
       "      <td>3/7/20</td>\n",
       "    </tr>\n",
       "    <tr>\n",
       "      <th>4</th>\n",
       "      <td>Bergen County, NJ</td>\n",
       "      <td>US</td>\n",
       "      <td>40.9263</td>\n",
       "      <td>-74.0770</td>\n",
       "      <td>2</td>\n",
       "      <td>3/5/20</td>\n",
       "    </tr>\n",
       "  </tbody>\n",
       "</table>\n",
       "</div>"
      ],
      "text/plain": [
       "        Province/State Country/Region      Lat      Long  value DateCons\n",
       "0   Norfolk County, MA             US  42.1767  -71.1449      1   3/3/20\n",
       "1   Norfolk County, MA             US  42.1767  -71.1449      2   3/6/20\n",
       "2   Alameda County, CA             US  37.6017 -121.7195      1   3/3/20\n",
       "3   Alameda County, CA             US  37.6017 -121.7195      2   3/7/20\n",
       "4    Bergen County, NJ             US  40.9263  -74.0770      2   3/5/20"
      ]
     },
     "execution_count": 14,
     "metadata": {},
     "output_type": "execute_result"
    }
   ],
   "source": [
    "covid2.head()"
   ]
  },
  {
   "cell_type": "code",
   "execution_count": 15,
   "metadata": {},
   "outputs": [],
   "source": [
    "# to get the full picture. generates a lot of output.\n",
    "# fullprint(covid2)"
   ]
  },
  {
   "cell_type": "code",
   "execution_count": 16,
   "metadata": {},
   "outputs": [
    {
     "data": {
      "image/png": "[encoded data removed]",
      "text/plain": [
       "<Figure size 432x288 with 1 Axes>"
      ]
     },
     "metadata": {
      "needs_background": "light"
     },
     "output_type": "display_data"
    }
   ],
   "source": [
    "# poor man's map to eyeball check for lat and long outliers\n",
    "covid2.plot(kind='scatter',x=\"Lat\",y='Long',alpha=0.4).set_title('Latitude and Longitude of all US confirmed cases');\n",
    "plt.xlabel(\"Latitude\")\n",
    "plt.ylabel(\"Longitude\")\n",
    "plt.show()"
   ]
  },
  {
   "cell_type": "code",
   "execution_count": 17,
   "metadata": {},
   "outputs": [
    {
     "data": {
      "text/html": [
       "<div>\n",
       "<style scoped>\n",
       "    .dataframe tbody tr th:only-of-type {\n",
       "        vertical-align: middle;\n",
       "    }\n",
       "\n",
       "    .dataframe tbody tr th {\n",
       "        vertical-align: top;\n",
       "    }\n",
       "\n",
       "    .dataframe thead th {\n",
       "        text-align: right;\n",
       "    }\n",
       "</style>\n",
       "<table border=\"1\" class=\"dataframe\">\n",
       "  <thead>\n",
       "    <tr style=\"text-align: right;\">\n",
       "      <th></th>\n",
       "      <th>Province/State</th>\n",
       "      <th>Country/Region</th>\n",
       "      <th>Lat</th>\n",
       "      <th>Long</th>\n",
       "      <th>value</th>\n",
       "      <th>DateCons</th>\n",
       "    </tr>\n",
       "  </thead>\n",
       "  <tbody>\n",
       "    <tr>\n",
       "      <th>130</th>\n",
       "      <td>Unassigned Location (From Diamond Princess)</td>\n",
       "      <td>US</td>\n",
       "      <td>35.4437</td>\n",
       "      <td>139.638</td>\n",
       "      <td>36</td>\n",
       "      <td>2/24/20</td>\n",
       "    </tr>\n",
       "    <tr>\n",
       "      <th>131</th>\n",
       "      <td>Unassigned Location (From Diamond Princess)</td>\n",
       "      <td>US</td>\n",
       "      <td>35.4437</td>\n",
       "      <td>139.638</td>\n",
       "      <td>42</td>\n",
       "      <td>2/26/20</td>\n",
       "    </tr>\n",
       "    <tr>\n",
       "      <th>132</th>\n",
       "      <td>Unassigned Location (From Diamond Princess)</td>\n",
       "      <td>US</td>\n",
       "      <td>35.4437</td>\n",
       "      <td>139.638</td>\n",
       "      <td>44</td>\n",
       "      <td>2/28/20</td>\n",
       "    </tr>\n",
       "    <tr>\n",
       "      <th>133</th>\n",
       "      <td>Unassigned Location (From Diamond Princess)</td>\n",
       "      <td>US</td>\n",
       "      <td>35.4437</td>\n",
       "      <td>139.638</td>\n",
       "      <td>45</td>\n",
       "      <td>3/2/20</td>\n",
       "    </tr>\n",
       "  </tbody>\n",
       "</table>\n",
       "</div>"
      ],
      "text/plain": [
       "                                  Province/State Country/Region      Lat  \\\n",
       "130  Unassigned Location (From Diamond Princess)             US  35.4437   \n",
       "131  Unassigned Location (From Diamond Princess)             US  35.4437   \n",
       "132  Unassigned Location (From Diamond Princess)             US  35.4437   \n",
       "133  Unassigned Location (From Diamond Princess)             US  35.4437   \n",
       "\n",
       "        Long  value DateCons  \n",
       "130  139.638     36  2/24/20  \n",
       "131  139.638     42  2/26/20  \n",
       "132  139.638     44  2/28/20  \n",
       "133  139.638     45   3/2/20  "
      ]
     },
     "execution_count": 17,
     "metadata": {},
     "output_type": "execute_result"
    }
   ],
   "source": [
    "covid2[covid2['Long']>100]"
   ]
  },
  {
   "cell_type": "markdown",
   "metadata": {},
   "source": [
    "Remove the confirmed cases from Diamond Princess, regardless of lat and long location. "
   ]
  },
  {
   "cell_type": "code",
   "execution_count": 18,
   "metadata": {},
   "outputs": [],
   "source": [
    "covid2_noprincess = covid2[~covid2['Province/State'].str.contains('Princess')].copy(deep=True)"
   ]
  },
  {
   "cell_type": "code",
   "execution_count": 19,
   "metadata": {},
   "outputs": [
    {
     "data": {
      "text/html": [
       "<div>\n",
       "<style scoped>\n",
       "    .dataframe tbody tr th:only-of-type {\n",
       "        vertical-align: middle;\n",
       "    }\n",
       "\n",
       "    .dataframe tbody tr th {\n",
       "        vertical-align: top;\n",
       "    }\n",
       "\n",
       "    .dataframe thead th {\n",
       "        text-align: right;\n",
       "    }\n",
       "</style>\n",
       "<table border=\"1\" class=\"dataframe\">\n",
       "  <thead>\n",
       "    <tr style=\"text-align: right;\">\n",
       "      <th></th>\n",
       "      <th>Province/State</th>\n",
       "      <th>Country/Region</th>\n",
       "      <th>Lat</th>\n",
       "      <th>Long</th>\n",
       "      <th>value</th>\n",
       "      <th>DateCons</th>\n",
       "    </tr>\n",
       "  </thead>\n",
       "  <tbody>\n",
       "    <tr>\n",
       "      <th>43</th>\n",
       "      <td>Honolulu County, HI</td>\n",
       "      <td>US</td>\n",
       "      <td>21.307</td>\n",
       "      <td>-157.8584</td>\n",
       "      <td>1</td>\n",
       "      <td>3/7/20</td>\n",
       "    </tr>\n",
       "  </tbody>\n",
       "</table>\n",
       "</div>"
      ],
      "text/plain": [
       "         Province/State Country/Region     Lat      Long  value DateCons\n",
       "43  Honolulu County, HI             US  21.307 -157.8584      1   3/7/20"
      ]
     },
     "execution_count": 19,
     "metadata": {},
     "output_type": "execute_result"
    }
   ],
   "source": [
    "covid2[covid2['Long']<-150]"
   ]
  },
  {
   "cell_type": "markdown",
   "metadata": {},
   "source": [
    "Hawaii's okay. We'll keep them."
   ]
  },
  {
   "cell_type": "code",
   "execution_count": 20,
   "metadata": {},
   "outputs": [
    {
     "data": {
      "image/png": "[encoded data removed]",
      "text/plain": [
       "<Figure size 432x288 with 1 Axes>"
      ]
     },
     "metadata": {
      "needs_background": "light"
     },
     "output_type": "display_data"
    }
   ],
   "source": [
    "covid2_noprincess.plot(kind='scatter',x=\"Lat\",y='Long',alpha=0.4).set_title('Latitude and Longitude of non-cruise ship US confirmed cases');\n",
    "plt.xlabel(\"Latitude\")\n",
    "plt.ylabel(\"Longitude\")\n",
    "plt.show()"
   ]
  },
  {
   "cell_type": "markdown",
   "metadata": {},
   "source": [
    "### Data Source #2: Localized Twitter"
   ]
  },
  {
   "cell_type": "markdown",
   "metadata": {},
   "source": [
    "#### Data Dictionary\n",
    "To be refined.\n",
    "* **0**: Number of likes.\n",
    "* **1**: Twitter screen name.\n",
    "* **2**: Tweet text.\n",
    "* **3**: Tweet timestamp.\n",
    "* **4**: Twitter username."
   ]
  },
  {
   "cell_type": "markdown",
   "metadata": {},
   "source": [
    "TwitterScraper: https://github.com/taspinar/twitterscraper/blob/master/examples/get_twitter_user_data.py  \n",
    "Says location data can be pulled, if provided."
   ]
  },
  {
   "cell_type": "markdown",
   "metadata": {},
   "source": [
    "Making a copy of the data so far."
   ]
  },
  {
   "cell_type": "code",
   "execution_count": 21,
   "metadata": {},
   "outputs": [],
   "source": [
    "covidsamp = covid2_noprincess.copy(deep=True)"
   ]
  },
  {
   "cell_type": "code",
   "execution_count": 22,
   "metadata": {},
   "outputs": [
    {
     "data": {
      "text/html": [
       "<div>\n",
       "<style scoped>\n",
       "    .dataframe tbody tr th:only-of-type {\n",
       "        vertical-align: middle;\n",
       "    }\n",
       "\n",
       "    .dataframe tbody tr th {\n",
       "        vertical-align: top;\n",
       "    }\n",
       "\n",
       "    .dataframe thead th {\n",
       "        text-align: right;\n",
       "    }\n",
       "</style>\n",
       "<table border=\"1\" class=\"dataframe\">\n",
       "  <thead>\n",
       "    <tr style=\"text-align: right;\">\n",
       "      <th></th>\n",
       "      <th>Province/State</th>\n",
       "      <th>Country/Region</th>\n",
       "      <th>Lat</th>\n",
       "      <th>Long</th>\n",
       "      <th>value</th>\n",
       "      <th>DateCons</th>\n",
       "    </tr>\n",
       "  </thead>\n",
       "  <tbody>\n",
       "    <tr>\n",
       "      <th>0</th>\n",
       "      <td>Norfolk County, MA</td>\n",
       "      <td>US</td>\n",
       "      <td>42.1767</td>\n",
       "      <td>-71.1449</td>\n",
       "      <td>1</td>\n",
       "      <td>3/3/20</td>\n",
       "    </tr>\n",
       "    <tr>\n",
       "      <th>1</th>\n",
       "      <td>Norfolk County, MA</td>\n",
       "      <td>US</td>\n",
       "      <td>42.1767</td>\n",
       "      <td>-71.1449</td>\n",
       "      <td>2</td>\n",
       "      <td>3/6/20</td>\n",
       "    </tr>\n",
       "    <tr>\n",
       "      <th>2</th>\n",
       "      <td>Alameda County, CA</td>\n",
       "      <td>US</td>\n",
       "      <td>37.6017</td>\n",
       "      <td>-121.7195</td>\n",
       "      <td>1</td>\n",
       "      <td>3/3/20</td>\n",
       "    </tr>\n",
       "    <tr>\n",
       "      <th>3</th>\n",
       "      <td>Alameda County, CA</td>\n",
       "      <td>US</td>\n",
       "      <td>37.6017</td>\n",
       "      <td>-121.7195</td>\n",
       "      <td>2</td>\n",
       "      <td>3/7/20</td>\n",
       "    </tr>\n",
       "    <tr>\n",
       "      <th>4</th>\n",
       "      <td>Bergen County, NJ</td>\n",
       "      <td>US</td>\n",
       "      <td>40.9263</td>\n",
       "      <td>-74.0770</td>\n",
       "      <td>2</td>\n",
       "      <td>3/5/20</td>\n",
       "    </tr>\n",
       "  </tbody>\n",
       "</table>\n",
       "</div>"
      ],
      "text/plain": [
       "        Province/State Country/Region      Lat      Long  value DateCons\n",
       "0   Norfolk County, MA             US  42.1767  -71.1449      1   3/3/20\n",
       "1   Norfolk County, MA             US  42.1767  -71.1449      2   3/6/20\n",
       "2   Alameda County, CA             US  37.6017 -121.7195      1   3/3/20\n",
       "3   Alameda County, CA             US  37.6017 -121.7195      2   3/7/20\n",
       "4    Bergen County, NJ             US  40.9263  -74.0770      2   3/5/20"
      ]
     },
     "execution_count": 22,
     "metadata": {},
     "output_type": "execute_result"
    }
   ],
   "source": [
    "covidsamp.head(5)"
   ]
  },
  {
   "cell_type": "code",
   "execution_count": 23,
   "metadata": {},
   "outputs": [
    {
     "name": "stdout",
     "output_type": "stream",
     "text": [
      "<class 'pandas.core.frame.DataFrame'>\n",
      "Int64Index: 140 entries, 0 to 147\n",
      "Data columns (total 6 columns):\n",
      " #   Column          Non-Null Count  Dtype  \n",
      "---  ------          --------------  -----  \n",
      " 0   Province/State  140 non-null    object \n",
      " 1   Country/Region  140 non-null    object \n",
      " 2   Lat             140 non-null    float64\n",
      " 3   Long            140 non-null    float64\n",
      " 4   value           140 non-null    int64  \n",
      " 5   DateCons        140 non-null    object \n",
      "dtypes: float64(2), int64(1), object(3)\n",
      "memory usage: 7.7+ KB\n"
     ]
    }
   ],
   "source": [
    "covidsamp.info()"
   ]
  },
  {
   "cell_type": "markdown",
   "metadata": {},
   "source": [
    "Set up variables that can be used for looping to pull the data."
   ]
  },
  {
   "cell_type": "code",
   "execution_count": 24,
   "metadata": {},
   "outputs": [],
   "source": [
    "covidsamp['tquery'] = \"Coronavirus near:\"+covid2_noprincess.astype(str)['Lat']+\",\"+covid2_noprincess.astype(str)['Long']+\" within:40mi\"\n",
    "covidsamp['lookbackdate'] = pd.to_datetime(covidsamp['DateCons']) - timedelta(days=5)\n",
    "covidsamp['lookfordate'] = pd.to_datetime(covidsamp['DateCons']) + timedelta(days=5)\n",
    "covidsamp['byear'] = covidsamp['lookbackdate'].dt.year\n",
    "covidsamp['bmonth'] = covidsamp['lookbackdate'].dt.month\n",
    "covidsamp['bday'] = covidsamp['lookbackdate'].dt.day\n",
    "covidsamp['fyear'] = covidsamp['lookfordate'].dt.year\n",
    "covidsamp['fmonth'] = covidsamp['lookfordate'].dt.month\n",
    "covidsamp['fday'] = covidsamp['lookfordate'].dt.day"
   ]
  },
  {
   "cell_type": "code",
   "execution_count": 25,
   "metadata": {},
   "outputs": [
    {
     "data": {
      "text/html": [
       "<div>\n",
       "<style scoped>\n",
       "    .dataframe tbody tr th:only-of-type {\n",
       "        vertical-align: middle;\n",
       "    }\n",
       "\n",
       "    .dataframe tbody tr th {\n",
       "        vertical-align: top;\n",
       "    }\n",
       "\n",
       "    .dataframe thead th {\n",
       "        text-align: right;\n",
       "    }\n",
       "</style>\n",
       "<table border=\"1\" class=\"dataframe\">\n",
       "  <thead>\n",
       "    <tr style=\"text-align: right;\">\n",
       "      <th></th>\n",
       "      <th>Province/State</th>\n",
       "      <th>Country/Region</th>\n",
       "      <th>Lat</th>\n",
       "      <th>Long</th>\n",
       "      <th>value</th>\n",
       "      <th>DateCons</th>\n",
       "      <th>tquery</th>\n",
       "      <th>lookbackdate</th>\n",
       "      <th>lookfordate</th>\n",
       "      <th>byear</th>\n",
       "      <th>bmonth</th>\n",
       "      <th>bday</th>\n",
       "      <th>fyear</th>\n",
       "      <th>fmonth</th>\n",
       "      <th>fday</th>\n",
       "    </tr>\n",
       "  </thead>\n",
       "  <tbody>\n",
       "    <tr>\n",
       "      <th>0</th>\n",
       "      <td>Norfolk County, MA</td>\n",
       "      <td>US</td>\n",
       "      <td>42.1767</td>\n",
       "      <td>-71.1449</td>\n",
       "      <td>1</td>\n",
       "      <td>3/3/20</td>\n",
       "      <td>Coronavirus near:42.1767,-71.1449 within:40mi</td>\n",
       "      <td>2020-02-27</td>\n",
       "      <td>2020-03-08</td>\n",
       "      <td>2020</td>\n",
       "      <td>2</td>\n",
       "      <td>27</td>\n",
       "      <td>2020</td>\n",
       "      <td>3</td>\n",
       "      <td>8</td>\n",
       "    </tr>\n",
       "    <tr>\n",
       "      <th>1</th>\n",
       "      <td>Norfolk County, MA</td>\n",
       "      <td>US</td>\n",
       "      <td>42.1767</td>\n",
       "      <td>-71.1449</td>\n",
       "      <td>2</td>\n",
       "      <td>3/6/20</td>\n",
       "      <td>Coronavirus near:42.1767,-71.1449 within:40mi</td>\n",
       "      <td>2020-03-01</td>\n",
       "      <td>2020-03-11</td>\n",
       "      <td>2020</td>\n",
       "      <td>3</td>\n",
       "      <td>1</td>\n",
       "      <td>2020</td>\n",
       "      <td>3</td>\n",
       "      <td>11</td>\n",
       "    </tr>\n",
       "    <tr>\n",
       "      <th>2</th>\n",
       "      <td>Alameda County, CA</td>\n",
       "      <td>US</td>\n",
       "      <td>37.6017</td>\n",
       "      <td>-121.7195</td>\n",
       "      <td>1</td>\n",
       "      <td>3/3/20</td>\n",
       "      <td>Coronavirus near:37.6017,-121.7195 within:40mi</td>\n",
       "      <td>2020-02-27</td>\n",
       "      <td>2020-03-08</td>\n",
       "      <td>2020</td>\n",
       "      <td>2</td>\n",
       "      <td>27</td>\n",
       "      <td>2020</td>\n",
       "      <td>3</td>\n",
       "      <td>8</td>\n",
       "    </tr>\n",
       "  </tbody>\n",
       "</table>\n",
       "</div>"
      ],
      "text/plain": [
       "        Province/State Country/Region      Lat      Long  value DateCons  \\\n",
       "0   Norfolk County, MA             US  42.1767  -71.1449      1   3/3/20   \n",
       "1   Norfolk County, MA             US  42.1767  -71.1449      2   3/6/20   \n",
       "2   Alameda County, CA             US  37.6017 -121.7195      1   3/3/20   \n",
       "\n",
       "                                           tquery lookbackdate lookfordate  \\\n",
       "0   Coronavirus near:42.1767,-71.1449 within:40mi   2020-02-27  2020-03-08   \n",
       "1   Coronavirus near:42.1767,-71.1449 within:40mi   2020-03-01  2020-03-11   \n",
       "2  Coronavirus near:37.6017,-121.7195 within:40mi   2020-02-27  2020-03-08   \n",
       "\n",
       "   byear  bmonth  bday  fyear  fmonth  fday  \n",
       "0   2020       2    27   2020       3     8  \n",
       "1   2020       3     1   2020       3    11  \n",
       "2   2020       2    27   2020       3     8  "
      ]
     },
     "execution_count": 25,
     "metadata": {},
     "output_type": "execute_result"
    }
   ],
   "source": [
    "covidsamp.head(3)"
   ]
  },
  {
   "cell_type": "markdown",
   "metadata": {},
   "source": [
    "Note, this section is skipped to save time on processing. The subsequent step pulls in the data that was scraped. Pulling all of the Twitter data takes a really long time. I would recommend skipping this step and importing the data I already saved out.\n",
    "If you feel like torturing yourself, you can uncomment rundehdata = 'yes' and it'll do its thing."
   ]
  },
  {
   "cell_type": "code",
   "execution_count": 26,
   "metadata": {},
   "outputs": [],
   "source": [
    "rundehdata = 'no'\n",
    "# rundehdata = 'yes'"
   ]
  },
  {
   "cell_type": "code",
   "execution_count": 27,
   "metadata": {},
   "outputs": [],
   "source": [
    "if rundehdata == 'yes':\n",
    "    count = 0\n",
    "    for (query,byear,bmonth,bday,fyear,fmonth,fday,datecons) in zip(covidsamp['tquery'],covidsamp['byear'],covidsamp['bmonth'],covidsamp['bday'],covidsamp['fyear'],covidsamp['fmonth'],covidsamp['fday'],covidsamp['DateCons']):\n",
    "        tweet_data = []\n",
    "        count = count + 1\n",
    "        \n",
    "        # pinging twitter does not produce full results, if the queries are being sent too quickly. the count condition below\n",
    "        # is to rerun loops that were incomplete for this reason.\n",
    "    #     if count>6 and count<11:\n",
    "#         if count==82:  \n",
    "    \n",
    "        # python likes to yell at me about indenting. obviously we're dealing with less than 10,000 pulls, but this is here as a dummy control for when I \n",
    "        # have to rerun some loops.\n",
    "        if count<10000:\n",
    "            # set up dynamic file names\n",
    "            dfname = 'tst' + str(count)\n",
    "            filepath = './tweetdata/'+dfname+'.csv'\n",
    "            # pull the twitter data for each query/location/timeframe\n",
    "            tweets = query_tweets(query,lang='en',begindate=date(byear,bmonth,bday),enddate=date(fyear,fmonth,fday))\n",
    "            for tweet in tweets:\n",
    "                tweet_data.append([tweet.likes, tweet.screen_name, tweet.text, tweet.timestamp, tweet.username])\n",
    "            # put all the tweets in a dataframe\n",
    "            dfname = pd.DataFrame(tweet_data).drop_duplicates()\n",
    "            dfname['DateConfirmed'] = datecons\n",
    "            dfname.columns = ['likes','screenname','tweet','timestamp','username','dateconfirmed']\n",
    "            dfname.to_csv(filepath)"
   ]
  },
  {
   "cell_type": "markdown",
   "metadata": {},
   "source": [
    "Bring in just one of the saved datasets to take a look at what we have."
   ]
  },
  {
   "cell_type": "code",
   "execution_count": 28,
   "metadata": {},
   "outputs": [],
   "source": [
    "chk = pd.read_csv('./tweetdata/tst90.csv')"
   ]
  },
  {
   "cell_type": "code",
   "execution_count": 29,
   "metadata": {},
   "outputs": [
    {
     "data": {
      "text/html": [
       "<div>\n",
       "<style scoped>\n",
       "    .dataframe tbody tr th:only-of-type {\n",
       "        vertical-align: middle;\n",
       "    }\n",
       "\n",
       "    .dataframe tbody tr th {\n",
       "        vertical-align: top;\n",
       "    }\n",
       "\n",
       "    .dataframe thead th {\n",
       "        text-align: right;\n",
       "    }\n",
       "</style>\n",
       "<table border=\"1\" class=\"dataframe\">\n",
       "  <thead>\n",
       "    <tr style=\"text-align: right;\">\n",
       "      <th></th>\n",
       "      <th>Unnamed: 0</th>\n",
       "      <th>likes</th>\n",
       "      <th>screenname</th>\n",
       "      <th>tweet</th>\n",
       "      <th>timestamp</th>\n",
       "      <th>username</th>\n",
       "      <th>dateconfirmed</th>\n",
       "    </tr>\n",
       "  </thead>\n",
       "  <tbody>\n",
       "    <tr>\n",
       "      <th>3829</th>\n",
       "      <td>4013</td>\n",
       "      <td>0</td>\n",
       "      <td>Newarkguy1973</td>\n",
       "      <td>This guy is mentally sick. The president has surrounded himself with the top scientists involved with the virus. 18,000 Americans have died from the flu since January. Coronavirus has been out out just as long. Yet, no influenza talk as they normally do this time of year! https://twitter.com/chrislhayes/status/1236492111257755660 …</td>\n",
       "      <td>2020-03-08 03:40:15</td>\n",
       "      <td>Deplorable L Arroyo😆🇺🇸🇵🇷</td>\n",
       "      <td>3/7/20</td>\n",
       "    </tr>\n",
       "    <tr>\n",
       "      <th>3830</th>\n",
       "      <td>4014</td>\n",
       "      <td>0</td>\n",
       "      <td>Robderbs</td>\n",
       "      <td>Empty halls. No handshakes. What happens when coronavirus cancels conferences https://www.latimes.com/business/story/2020-03-05/coronavirus-industry-conventions …</td>\n",
       "      <td>2020-03-08 03:38:31</td>\n",
       "      <td>Baseball is (Not) Coming (Yet)</td>\n",
       "      <td>3/7/20</td>\n",
       "    </tr>\n",
       "    <tr>\n",
       "      <th>3831</th>\n",
       "      <td>4015</td>\n",
       "      <td>0</td>\n",
       "      <td>mariolinton</td>\n",
       "      <td>World War Z now showing on all CNN, Fox News &amp; BB channels. #coronavirus</td>\n",
       "      <td>2020-03-08 03:37:16</td>\n",
       "      <td>Love to Ride</td>\n",
       "      <td>3/7/20</td>\n",
       "    </tr>\n",
       "  </tbody>\n",
       "</table>\n",
       "</div>"
      ],
      "text/plain": [
       "      Unnamed: 0  likes     screenname  \\\n",
       "3829        4013      0  Newarkguy1973   \n",
       "3830        4014      0       Robderbs   \n",
       "3831        4015      0    mariolinton   \n",
       "\n",
       "                                                                                                                                                                                                                                                                                                                                              tweet  \\\n",
       "3829  This guy is mentally sick. The president has surrounded himself with the top scientists involved with the virus. 18,000 Americans have died from the flu since January. Coronavirus has been out out just as long. Yet, no influenza talk as they normally do this time of year! https://twitter.com/chrislhayes/status/1236492111257755660 …   \n",
       "3830                                                                                                                                                                             Empty halls. No handshakes. What happens when coronavirus cancels conferences https://www.latimes.com/business/story/2020-03-05/coronavirus-industry-conventions …   \n",
       "3831                                                                                                                                                                                                                                                                       World War Z now showing on all CNN, Fox News & BB channels. #coronavirus   \n",
       "\n",
       "                timestamp                        username dateconfirmed  \n",
       "3829  2020-03-08 03:40:15        Deplorable L Arroyo😆🇺🇸🇵🇷        3/7/20  \n",
       "3830  2020-03-08 03:38:31  Baseball is (Not) Coming (Yet)        3/7/20  \n",
       "3831  2020-03-08 03:37:16                    Love to Ride        3/7/20  "
      ]
     },
     "execution_count": 29,
     "metadata": {},
     "output_type": "execute_result"
    }
   ],
   "source": [
    "chk.tail(3)"
   ]
  },
  {
   "cell_type": "code",
   "execution_count": 30,
   "metadata": {},
   "outputs": [],
   "source": [
    "chk = chk.sort_values('timestamp')"
   ]
  },
  {
   "cell_type": "code",
   "execution_count": 31,
   "metadata": {},
   "outputs": [
    {
     "data": {
      "image/png": "[encoded data removed]",
      "text/plain": [
       "<Figure size 432x288 with 1 Axes>"
      ]
     },
     "metadata": {
      "needs_background": "light"
     },
     "output_type": "display_data"
    }
   ],
   "source": [
    "ax = sns.countplot(y=(pd.to_datetime(chk['timestamp']).dt.date), data=chk).set_title('Tweets by date');\n",
    "plt.ylabel(\"Date\")\n",
    "plt.xlabel(\"Number of tweets tweeted within 40 miles of confirmed county center\")\n",
    "plt.show()"
   ]
  },
  {
   "cell_type": "markdown",
   "metadata": {},
   "source": [
    "As you can see above, there are regions where the overall volume of tweets about coronavirus did not substantially change. I looked at several other regions, but did not include that here for the sake of general redundancy. My original idea for the outcome variable was an increase in the sheer number of tweets, which I later changed in response to what I was seeing in EDA. The new outcome is average fear-based sentiment before and after a new confirmed case."
   ]
  },
  {
   "cell_type": "markdown",
   "metadata": {},
   "source": [
    "### Emotion Sentiment Analysis"
   ]
  },
  {
   "cell_type": "markdown",
   "metadata": {},
   "source": [
    "Emotion sentiment analysis inspiration came from this dude. A lot of the next section is stuff I adapted from his notebook.\n",
    "https://github.com/raffg/harry_potter_nlp/blob/master/sentiment_analysis.ipynb\n",
    "\n",
    "Source for NRC emotion lexicon data:\n",
    "https://github.com/sebastianruder/emotion_proposition_store/tree/master/NRC-Emotion-Lexicon-v0.92\n",
    "\n",
    "NRC source data was last updated in 2011. There's probably a better, more recent source I can use, but my preliminary research into sentiment analysis indicates that most projects stick with 'positive' and 'negative', vs. actual emotions. Sticking with NRC for now so I can gauge fear."
   ]
  },
  {
   "cell_type": "code",
   "execution_count": 32,
   "metadata": {},
   "outputs": [],
   "source": [
    "# bring in raw NDC data and reformat\n",
    "filepath = ('./tweetdata/NRC-Emotion-Lexicon-Wordlevel-alphabetized-v0.92.txt')\n",
    "emolex_df = pd.read_csv(filepath,names=[\"word\", \"emotion\", \"association\"],sep='\\t')\n",
    "emolex_df = emolex_df[pd.notnull(emolex_df['emotion'])]\n",
    "emolex_words = emolex_df.pivot(index='word',columns='emotion',values='association').reset_index()\n",
    "emolex_words = emolex_words[pd.notnull(emolex_words['word'])]\n",
    "emotions = emolex_words.columns.drop('word')\n",
    "\n",
    "stemmer = SnowballStemmer(\"english\")\n",
    "\n",
    "stop_words = stopwords.words('english')\n",
    "# add in garbage that stopwords doesn't account for, and punctuation.\n",
    "garbage = ['@','this','2','the','1','The','This','“','”','#','...',':/','#',\"'\"]\n",
    "stop_words.extend(garbage)\n",
    "stop_words.extend(string.punctuation)\n",
    "\n",
    "tweeter = TweetTokenizer()"
   ]
  },
  {
   "cell_type": "code",
   "execution_count": 33,
   "metadata": {},
   "outputs": [
    {
     "data": {
      "text/html": [
       "<div>\n",
       "<style scoped>\n",
       "    .dataframe tbody tr th:only-of-type {\n",
       "        vertical-align: middle;\n",
       "    }\n",
       "\n",
       "    .dataframe tbody tr th {\n",
       "        vertical-align: top;\n",
       "    }\n",
       "\n",
       "    .dataframe thead th {\n",
       "        text-align: right;\n",
       "    }\n",
       "</style>\n",
       "<table border=\"1\" class=\"dataframe\">\n",
       "  <thead>\n",
       "    <tr style=\"text-align: right;\">\n",
       "      <th>emotion</th>\n",
       "      <th>word</th>\n",
       "      <th>anger</th>\n",
       "      <th>anticipation</th>\n",
       "      <th>disgust</th>\n",
       "      <th>fear</th>\n",
       "      <th>joy</th>\n",
       "      <th>negative</th>\n",
       "      <th>positive</th>\n",
       "      <th>sadness</th>\n",
       "      <th>surprise</th>\n",
       "      <th>trust</th>\n",
       "    </tr>\n",
       "  </thead>\n",
       "  <tbody>\n",
       "    <tr>\n",
       "      <th>1</th>\n",
       "      <td>aback</td>\n",
       "      <td>0.0</td>\n",
       "      <td>0.0</td>\n",
       "      <td>0.0</td>\n",
       "      <td>0.0</td>\n",
       "      <td>0.0</td>\n",
       "      <td>0.0</td>\n",
       "      <td>0.0</td>\n",
       "      <td>0.0</td>\n",
       "      <td>0.0</td>\n",
       "      <td>0.0</td>\n",
       "    </tr>\n",
       "    <tr>\n",
       "      <th>2</th>\n",
       "      <td>abacus</td>\n",
       "      <td>0.0</td>\n",
       "      <td>0.0</td>\n",
       "      <td>0.0</td>\n",
       "      <td>0.0</td>\n",
       "      <td>0.0</td>\n",
       "      <td>0.0</td>\n",
       "      <td>0.0</td>\n",
       "      <td>0.0</td>\n",
       "      <td>0.0</td>\n",
       "      <td>1.0</td>\n",
       "    </tr>\n",
       "    <tr>\n",
       "      <th>3</th>\n",
       "      <td>abandon</td>\n",
       "      <td>0.0</td>\n",
       "      <td>0.0</td>\n",
       "      <td>0.0</td>\n",
       "      <td>1.0</td>\n",
       "      <td>0.0</td>\n",
       "      <td>1.0</td>\n",
       "      <td>0.0</td>\n",
       "      <td>1.0</td>\n",
       "      <td>0.0</td>\n",
       "      <td>0.0</td>\n",
       "    </tr>\n",
       "    <tr>\n",
       "      <th>4</th>\n",
       "      <td>abandoned</td>\n",
       "      <td>1.0</td>\n",
       "      <td>0.0</td>\n",
       "      <td>0.0</td>\n",
       "      <td>1.0</td>\n",
       "      <td>0.0</td>\n",
       "      <td>1.0</td>\n",
       "      <td>0.0</td>\n",
       "      <td>1.0</td>\n",
       "      <td>0.0</td>\n",
       "      <td>0.0</td>\n",
       "    </tr>\n",
       "    <tr>\n",
       "      <th>5</th>\n",
       "      <td>abandonment</td>\n",
       "      <td>1.0</td>\n",
       "      <td>0.0</td>\n",
       "      <td>0.0</td>\n",
       "      <td>1.0</td>\n",
       "      <td>0.0</td>\n",
       "      <td>1.0</td>\n",
       "      <td>0.0</td>\n",
       "      <td>1.0</td>\n",
       "      <td>1.0</td>\n",
       "      <td>0.0</td>\n",
       "    </tr>\n",
       "  </tbody>\n",
       "</table>\n",
       "</div>"
      ],
      "text/plain": [
       "emotion         word  anger  anticipation  disgust  fear  joy  negative  \\\n",
       "1              aback    0.0           0.0      0.0   0.0  0.0       0.0   \n",
       "2             abacus    0.0           0.0      0.0   0.0  0.0       0.0   \n",
       "3            abandon    0.0           0.0      0.0   1.0  0.0       1.0   \n",
       "4          abandoned    1.0           0.0      0.0   1.0  0.0       1.0   \n",
       "5        abandonment    1.0           0.0      0.0   1.0  0.0       1.0   \n",
       "\n",
       "emotion  positive  sadness  surprise  trust  \n",
       "1             0.0      0.0       0.0    0.0  \n",
       "2             0.0      0.0       0.0    1.0  \n",
       "3             0.0      1.0       0.0    0.0  \n",
       "4             0.0      1.0       0.0    0.0  \n",
       "5             0.0      1.0       1.0    0.0  "
      ]
     },
     "execution_count": 33,
     "metadata": {},
     "output_type": "execute_result"
    }
   ],
   "source": [
    "emolex_words.head(5)"
   ]
  },
  {
   "cell_type": "markdown",
   "metadata": {},
   "source": [
    "Count the number of tweet data files that were saved out during scraping. This is to allow for looping when tokenizing each dataset. Tokenizing is computationally expensive."
   ]
  },
  {
   "cell_type": "code",
   "execution_count": 34,
   "metadata": {},
   "outputs": [],
   "source": [
    "path, dirs, files = next(os.walk('./tweetdata'))\n",
    "totfiles = len(files)+1\n",
    "# for testing.\n",
    "totfiles = 5"
   ]
  },
  {
   "cell_type": "markdown",
   "metadata": {},
   "source": [
    "I would recommend skipping this next section when running the notebook, for the sake of time. I import the post-processed data in the next step. Just one csv containing a little over 1MB of tweet data (4,742 tweets) takes an hour to tokenize on my machine. I'm currently pulling data for 131 dates associated with new confirmed cases.\n",
    "\n",
    "There are a number of things happening here for processing each tweet in each dataset:\n",
    "1. Save out the original tweet, for comparisons\n",
    "2. Tokenize the tweet\n",
    "3. Remove stopwords (and, a, the, etc)\n",
    "4. Assign emotion scores at the word level, based on words in the NRC data\n",
    "5. Aggregate the emotion scores at the tweet level"
   ]
  },
  {
   "cell_type": "code",
   "execution_count": 35,
   "metadata": {},
   "outputs": [],
   "source": [
    "rundehdata = 'no'\n",
    "# rundehdata = 'yes'"
   ]
  },
  {
   "cell_type": "code",
   "execution_count": 36,
   "metadata": {},
   "outputs": [
    {
     "name": "stdout",
     "output_type": "stream",
     "text": [
      "Wall time: 0 ns\n"
     ]
    }
   ],
   "source": [
    "%%time\n",
    "\n",
    "if rundehdata == 'yes':  \n",
    "\n",
    "#     for x in range(1,totfiles):\n",
    "    for x in range(124,132):\n",
    "\n",
    "        fpath = './tweetdata/tst'+str(x)+'.csv'\n",
    "        df = pd.read_csv(fpath)\n",
    "\n",
    "#         new_df = df.head(50).copy(deep=True).reset_index()\n",
    "        new_df = df.copy(deep=True).reset_index()\n",
    "        emo_df = pd.DataFrame(0, index=df.index, columns=emotions)\n",
    "    \n",
    "        new_df['loc'] = x\n",
    "        \n",
    "        for i,row in new_df.iterrows():\n",
    "            dateconfirmed = new_df['dateconfirmed'][i]\n",
    "            index = new_df['index'][i]\n",
    "            origtweet = new_df['tweet'][i]\n",
    "            documenta = tweeter.tokenize(new_df['tweet'][i].replace(\"#\",\"\"))\n",
    "            # remove stopwords                                                                                         \n",
    "            document = [x for x in documenta if not x.lower() in stop_words]\n",
    "            for word in document:\n",
    "                # get to root words... this did not end up working the way I wanted it to, the stem chopping is sloppy. commented out.\n",
    "        #         word = stemmer.stem(word.lower())    \n",
    "                word = word.lower()\n",
    "                # assign an emotion score for each word\n",
    "                emo_score = emolex_words[emolex_words.word == word]\n",
    "\n",
    "                # word frequency + emotion checking\n",
    "                left = pd.DataFrame({'index':[index],'tweet':[origtweet],'word':[word]})\n",
    "                right = pd.DataFrame(emo_score)\n",
    "                newdat = pd.DataFrame(left.merge(right,on='word',how='left'))\n",
    "#                 checkit = checkit.append(newdat)\n",
    "\n",
    "                if not emo_score.empty:\n",
    "                    for emotion in list(emotions):\n",
    "                        # aggregate scores for the tweet by emotion\n",
    "                        emo_df.at[i, emotion] += emo_score[emotion]\n",
    "                        \n",
    "        outdf = pd.concat([new_df, emo_df], axis=1) \n",
    "        \n",
    "        fpath = './tweetdata/tst'+str(x)+'_processed.csv'\n",
    "        outdf.to_csv(fpath)"
   ]
  },
  {
   "cell_type": "markdown",
   "metadata": {},
   "source": [
    "Above cell: 18 minutes for 4 data sets"
   ]
  },
  {
   "cell_type": "code",
   "execution_count": 37,
   "metadata": {},
   "outputs": [],
   "source": [
    "outdf_full = pd.DataFrame()\n",
    "\n",
    "for x in range(1,132):\n",
    "    fpath = './tweetdata/tst'+str(x)+'_processed.csv'\n",
    "    df = pd.read_csv(fpath)\n",
    "    outdf_full = outdf_full.append(df)"
   ]
  },
  {
   "cell_type": "code",
   "execution_count": 38,
   "metadata": {},
   "outputs": [
    {
     "data": {
      "text/html": [
       "<div>\n",
       "<style scoped>\n",
       "    .dataframe tbody tr th:only-of-type {\n",
       "        vertical-align: middle;\n",
       "    }\n",
       "\n",
       "    .dataframe tbody tr th {\n",
       "        vertical-align: top;\n",
       "    }\n",
       "\n",
       "    .dataframe thead th {\n",
       "        text-align: right;\n",
       "    }\n",
       "</style>\n",
       "<table border=\"1\" class=\"dataframe\">\n",
       "  <thead>\n",
       "    <tr style=\"text-align: right;\">\n",
       "      <th></th>\n",
       "      <th>Unnamed: 0</th>\n",
       "      <th>index</th>\n",
       "      <th>Unnamed: 0.1</th>\n",
       "      <th>likes</th>\n",
       "      <th>screenname</th>\n",
       "      <th>tweet</th>\n",
       "      <th>timestamp</th>\n",
       "      <th>username</th>\n",
       "      <th>dateconfirmed</th>\n",
       "      <th>loc</th>\n",
       "      <th>anger</th>\n",
       "      <th>anticipation</th>\n",
       "      <th>disgust</th>\n",
       "      <th>fear</th>\n",
       "      <th>joy</th>\n",
       "      <th>negative</th>\n",
       "      <th>positive</th>\n",
       "      <th>sadness</th>\n",
       "      <th>surprise</th>\n",
       "      <th>trust</th>\n",
       "    </tr>\n",
       "  </thead>\n",
       "  <tbody>\n",
       "    <tr>\n",
       "      <th>0</th>\n",
       "      <td>0</td>\n",
       "      <td>0</td>\n",
       "      <td>0</td>\n",
       "      <td>1</td>\n",
       "      <td>lsferguson</td>\n",
       "      <td>Coronavirus is the new Russia https://twitter.com/MrJones_tm/status/1234252428058484736 …</td>\n",
       "      <td>2020-03-01 23:51:54</td>\n",
       "      <td>Steve Ferguson</td>\n",
       "      <td>3/3/20</td>\n",
       "      <td>1</td>\n",
       "      <td>0</td>\n",
       "      <td>0</td>\n",
       "      <td>0</td>\n",
       "      <td>0</td>\n",
       "      <td>0</td>\n",
       "      <td>0</td>\n",
       "      <td>0</td>\n",
       "      <td>0</td>\n",
       "      <td>0</td>\n",
       "      <td>0</td>\n",
       "    </tr>\n",
       "    <tr>\n",
       "      <th>1</th>\n",
       "      <td>1</td>\n",
       "      <td>1</td>\n",
       "      <td>1</td>\n",
       "      <td>0</td>\n",
       "      <td>esgarchitect</td>\n",
       "      <td>The 2020 picture w #coronavirus effect will make quite the A/B test. We prefer a global world, despite what the nationalists and tribalists try and argue for. Humans meeting humans is the only way to break -isms and othering. #aviation #travel #airtravel #airlines #COVID19 #tradehttps://twitter.com/LaurelCoons/status/1073081733703069696 …</td>\n",
       "      <td>2020-03-01 23:36:18</td>\n",
       "      <td>Graham “flatten the curve” Sinclair</td>\n",
       "      <td>3/3/20</td>\n",
       "      <td>1</td>\n",
       "      <td>1</td>\n",
       "      <td>0</td>\n",
       "      <td>0</td>\n",
       "      <td>0</td>\n",
       "      <td>0</td>\n",
       "      <td>1</td>\n",
       "      <td>1</td>\n",
       "      <td>0</td>\n",
       "      <td>1</td>\n",
       "      <td>1</td>\n",
       "    </tr>\n",
       "  </tbody>\n",
       "</table>\n",
       "</div>"
      ],
      "text/plain": [
       "   Unnamed: 0  index  Unnamed: 0.1  likes    screenname  \\\n",
       "0           0      0             0      1    lsferguson   \n",
       "1           1      1             1      0  esgarchitect   \n",
       "\n",
       "                                                                                                                                                                                                                                                                                                                                                  tweet  \\\n",
       "0                                                                                                                                                                                                                                                             Coronavirus is the new Russia https://twitter.com/MrJones_tm/status/1234252428058484736 …   \n",
       "1  The 2020 picture w #coronavirus effect will make quite the A/B test. We prefer a global world, despite what the nationalists and tribalists try and argue for. Humans meeting humans is the only way to break -isms and othering. #aviation #travel #airtravel #airlines #COVID19 #tradehttps://twitter.com/LaurelCoons/status/1073081733703069696 …   \n",
       "\n",
       "             timestamp                             username dateconfirmed  \\\n",
       "0  2020-03-01 23:51:54                       Steve Ferguson        3/3/20   \n",
       "1  2020-03-01 23:36:18  Graham “flatten the curve” Sinclair        3/3/20   \n",
       "\n",
       "   loc  anger  anticipation  disgust  fear  joy  negative  positive  sadness  \\\n",
       "0    1      0             0        0     0    0         0         0        0   \n",
       "1    1      1             0        0     0    0         1         1        0   \n",
       "\n",
       "   surprise  trust  \n",
       "0         0      0  \n",
       "1         1      1  "
      ]
     },
     "execution_count": 38,
     "metadata": {},
     "output_type": "execute_result"
    }
   ],
   "source": [
    "outdf_full.head(2)"
   ]
  },
  {
   "cell_type": "code",
   "execution_count": 39,
   "metadata": {},
   "outputs": [
    {
     "data": {
      "text/html": [
       "<div>\n",
       "<style scoped>\n",
       "    .dataframe tbody tr th:only-of-type {\n",
       "        vertical-align: middle;\n",
       "    }\n",
       "\n",
       "    .dataframe tbody tr th {\n",
       "        vertical-align: top;\n",
       "    }\n",
       "\n",
       "    .dataframe thead th {\n",
       "        text-align: right;\n",
       "    }\n",
       "</style>\n",
       "<table border=\"1\" class=\"dataframe\">\n",
       "  <thead>\n",
       "    <tr style=\"text-align: right;\">\n",
       "      <th></th>\n",
       "      <th>Unnamed: 0</th>\n",
       "      <th>index</th>\n",
       "      <th>Unnamed: 0.1</th>\n",
       "      <th>likes</th>\n",
       "      <th>screenname</th>\n",
       "      <th>tweet</th>\n",
       "      <th>timestamp</th>\n",
       "      <th>username</th>\n",
       "      <th>dateconfirmed</th>\n",
       "      <th>loc</th>\n",
       "      <th>anger</th>\n",
       "      <th>anticipation</th>\n",
       "      <th>disgust</th>\n",
       "      <th>fear</th>\n",
       "      <th>joy</th>\n",
       "      <th>negative</th>\n",
       "      <th>positive</th>\n",
       "      <th>sadness</th>\n",
       "      <th>surprise</th>\n",
       "      <th>trust</th>\n",
       "    </tr>\n",
       "  </thead>\n",
       "  <tbody>\n",
       "    <tr>\n",
       "      <th>173</th>\n",
       "      <td>173</td>\n",
       "      <td>173</td>\n",
       "      <td>209</td>\n",
       "      <td>0</td>\n",
       "      <td>magnezi</td>\n",
       "      <td>The most scarce resource - hand sanitizer. There's none, no where, nada. #Coronavirus #Crazinesspic.twitter.com/aGOO20X5s4</td>\n",
       "      <td>2020-03-06 15:14:17</td>\n",
       "      <td>Kobi-Wan Kenobi</td>\n",
       "      <td>3/7/20</td>\n",
       "      <td>131</td>\n",
       "      <td>0</td>\n",
       "      <td>0</td>\n",
       "      <td>0</td>\n",
       "      <td>1</td>\n",
       "      <td>0</td>\n",
       "      <td>1</td>\n",
       "      <td>0</td>\n",
       "      <td>1</td>\n",
       "      <td>0</td>\n",
       "      <td>0</td>\n",
       "    </tr>\n",
       "    <tr>\n",
       "      <th>174</th>\n",
       "      <td>174</td>\n",
       "      <td>174</td>\n",
       "      <td>210</td>\n",
       "      <td>0</td>\n",
       "      <td>SPdx35</td>\n",
       "      <td>@jimcramer $apt $codx should be higher with $8.3B of #COVID19 funds! #coronavirus</td>\n",
       "      <td>2020-03-06 15:05:45</td>\n",
       "      <td>StockPdx35</td>\n",
       "      <td>3/7/20</td>\n",
       "      <td>131</td>\n",
       "      <td>0</td>\n",
       "      <td>0</td>\n",
       "      <td>0</td>\n",
       "      <td>0</td>\n",
       "      <td>0</td>\n",
       "      <td>0</td>\n",
       "      <td>1</td>\n",
       "      <td>0</td>\n",
       "      <td>0</td>\n",
       "      <td>0</td>\n",
       "    </tr>\n",
       "  </tbody>\n",
       "</table>\n",
       "</div>"
      ],
      "text/plain": [
       "     Unnamed: 0  index  Unnamed: 0.1  likes screenname  \\\n",
       "173         173    173           209      0    magnezi   \n",
       "174         174    174           210      0     SPdx35   \n",
       "\n",
       "                                                                                                                          tweet  \\\n",
       "173  The most scarce resource - hand sanitizer. There's none, no where, nada. #Coronavirus #Crazinesspic.twitter.com/aGOO20X5s4   \n",
       "174                                           @jimcramer $apt $codx should be higher with $8.3B of #COVID19 funds! #coronavirus   \n",
       "\n",
       "               timestamp         username dateconfirmed  loc  anger  \\\n",
       "173  2020-03-06 15:14:17  Kobi-Wan Kenobi        3/7/20  131      0   \n",
       "174  2020-03-06 15:05:45       StockPdx35        3/7/20  131      0   \n",
       "\n",
       "     anticipation  disgust  fear  joy  negative  positive  sadness  surprise  \\\n",
       "173             0        0     1    0         1         0        1         0   \n",
       "174             0        0     0    0         0         1        0         0   \n",
       "\n",
       "     trust  \n",
       "173      0  \n",
       "174      0  "
      ]
     },
     "execution_count": 39,
     "metadata": {},
     "output_type": "execute_result"
    }
   ],
   "source": [
    "outdf_full.tail(2)"
   ]
  },
  {
   "cell_type": "code",
   "execution_count": 40,
   "metadata": {},
   "outputs": [],
   "source": [
    "def extremes(emotion):\n",
    "    maxemo = max(outdf_full[emotion])\n",
    "    exploretweet = outdf_full['index'][outdf_full[emotion]==maxemo].astype(int)\n",
    "    display(outdf_full[outdf_full[emotion]==maxemo].head(1))"
   ]
  },
  {
   "cell_type": "code",
   "execution_count": 41,
   "metadata": {},
   "outputs": [
    {
     "data": {
      "text/html": [
       "<div>\n",
       "<style scoped>\n",
       "    .dataframe tbody tr th:only-of-type {\n",
       "        vertical-align: middle;\n",
       "    }\n",
       "\n",
       "    .dataframe tbody tr th {\n",
       "        vertical-align: top;\n",
       "    }\n",
       "\n",
       "    .dataframe thead th {\n",
       "        text-align: right;\n",
       "    }\n",
       "</style>\n",
       "<table border=\"1\" class=\"dataframe\">\n",
       "  <thead>\n",
       "    <tr style=\"text-align: right;\">\n",
       "      <th></th>\n",
       "      <th>Unnamed: 0</th>\n",
       "      <th>index</th>\n",
       "      <th>Unnamed: 0.1</th>\n",
       "      <th>likes</th>\n",
       "      <th>screenname</th>\n",
       "      <th>tweet</th>\n",
       "      <th>timestamp</th>\n",
       "      <th>username</th>\n",
       "      <th>dateconfirmed</th>\n",
       "      <th>loc</th>\n",
       "      <th>anger</th>\n",
       "      <th>anticipation</th>\n",
       "      <th>disgust</th>\n",
       "      <th>fear</th>\n",
       "      <th>joy</th>\n",
       "      <th>negative</th>\n",
       "      <th>positive</th>\n",
       "      <th>sadness</th>\n",
       "      <th>surprise</th>\n",
       "      <th>trust</th>\n",
       "    </tr>\n",
       "  </thead>\n",
       "  <tbody>\n",
       "    <tr>\n",
       "      <th>2283</th>\n",
       "      <td>2283</td>\n",
       "      <td>2283</td>\n",
       "      <td>2433</td>\n",
       "      <td>0</td>\n",
       "      <td>IsraelRoseMarr1</td>\n",
       "      <td>Hi. I'm not trying to scare people from this deadly virus disease coronavirus. Because this deadly virus disease coronavirus is scarring me.and we have to find a cure. To scare the deadly virus disease coronavirus. For good. God bless us all around the world.  pic.twitter.com/uwh8YmZCpe</td>\n",
       "      <td>2020-02-29 15:29:18</td>\n",
       "      <td>Israel Rose Marrero</td>\n",
       "      <td>3/5/20</td>\n",
       "      <td>5</td>\n",
       "      <td>8</td>\n",
       "      <td>5</td>\n",
       "      <td>6</td>\n",
       "      <td>9</td>\n",
       "      <td>3</td>\n",
       "      <td>11</td>\n",
       "      <td>3</td>\n",
       "      <td>6</td>\n",
       "      <td>3</td>\n",
       "      <td>3</td>\n",
       "    </tr>\n",
       "  </tbody>\n",
       "</table>\n",
       "</div>"
      ],
      "text/plain": [
       "      Unnamed: 0  index  Unnamed: 0.1  likes       screenname  \\\n",
       "2283        2283   2283          2433      0  IsraelRoseMarr1   \n",
       "\n",
       "                                                                                                                                                                                                                                                                                                tweet  \\\n",
       "2283  Hi. I'm not trying to scare people from this deadly virus disease coronavirus. Because this deadly virus disease coronavirus is scarring me.and we have to find a cure. To scare the deadly virus disease coronavirus. For good. God bless us all around the world.  pic.twitter.com/uwh8YmZCpe   \n",
       "\n",
       "                timestamp             username dateconfirmed  loc  anger  \\\n",
       "2283  2020-02-29 15:29:18  Israel Rose Marrero        3/5/20    5      8   \n",
       "\n",
       "      anticipation  disgust  fear  joy  negative  positive  sadness  surprise  \\\n",
       "2283             5        6     9    3        11         3        6         3   \n",
       "\n",
       "      trust  \n",
       "2283      3  "
      ]
     },
     "metadata": {},
     "output_type": "display_data"
    }
   ],
   "source": [
    "extremes('fear')"
   ]
  },
  {
   "cell_type": "code",
   "execution_count": 42,
   "metadata": {},
   "outputs": [
    {
     "data": {
      "text/html": [
       "<div>\n",
       "<style scoped>\n",
       "    .dataframe tbody tr th:only-of-type {\n",
       "        vertical-align: middle;\n",
       "    }\n",
       "\n",
       "    .dataframe tbody tr th {\n",
       "        vertical-align: top;\n",
       "    }\n",
       "\n",
       "    .dataframe thead th {\n",
       "        text-align: right;\n",
       "    }\n",
       "</style>\n",
       "<table border=\"1\" class=\"dataframe\">\n",
       "  <thead>\n",
       "    <tr style=\"text-align: right;\">\n",
       "      <th></th>\n",
       "      <th>Unnamed: 0</th>\n",
       "      <th>index</th>\n",
       "      <th>Unnamed: 0.1</th>\n",
       "      <th>likes</th>\n",
       "      <th>screenname</th>\n",
       "      <th>tweet</th>\n",
       "      <th>timestamp</th>\n",
       "      <th>username</th>\n",
       "      <th>dateconfirmed</th>\n",
       "      <th>loc</th>\n",
       "      <th>anger</th>\n",
       "      <th>anticipation</th>\n",
       "      <th>disgust</th>\n",
       "      <th>fear</th>\n",
       "      <th>joy</th>\n",
       "      <th>negative</th>\n",
       "      <th>positive</th>\n",
       "      <th>sadness</th>\n",
       "      <th>surprise</th>\n",
       "      <th>trust</th>\n",
       "    </tr>\n",
       "  </thead>\n",
       "  <tbody>\n",
       "    <tr>\n",
       "      <th>2344</th>\n",
       "      <td>2344</td>\n",
       "      <td>2344</td>\n",
       "      <td>2499</td>\n",
       "      <td>3</td>\n",
       "      <td>PeterCorless</td>\n",
       "      <td>My latest $0.02 on #coronavirus / #coronanoia. This is not the flu. It is also not the Black Death or zombie apocalypse. It will be somewhere in between those extremes, and it's gonna hurt bad. U.S. alone: 327k to 16m may die depending on morbidity/mortality. Check my math.pic.twitter.com/HemjO3xfJT</td>\n",
       "      <td>2020-03-10 03:35:34</td>\n",
       "      <td>Peter Corless 🌎☮</td>\n",
       "      <td>3/7/20</td>\n",
       "      <td>4</td>\n",
       "      <td>5</td>\n",
       "      <td>1</td>\n",
       "      <td>3</td>\n",
       "      <td>7</td>\n",
       "      <td>0</td>\n",
       "      <td>8</td>\n",
       "      <td>0</td>\n",
       "      <td>7</td>\n",
       "      <td>1</td>\n",
       "      <td>0</td>\n",
       "    </tr>\n",
       "  </tbody>\n",
       "</table>\n",
       "</div>"
      ],
      "text/plain": [
       "      Unnamed: 0  index  Unnamed: 0.1  likes    screenname  \\\n",
       "2344        2344   2344          2499      3  PeterCorless   \n",
       "\n",
       "                                                                                                                                                                                                                                                                                                             tweet  \\\n",
       "2344  My latest $0.02 on #coronavirus / #coronanoia. This is not the flu. It is also not the Black Death or zombie apocalypse. It will be somewhere in between those extremes, and it's gonna hurt bad. U.S. alone: 327k to 16m may die depending on morbidity/mortality. Check my math.pic.twitter.com/HemjO3xfJT   \n",
       "\n",
       "                timestamp          username dateconfirmed  loc  anger  \\\n",
       "2344  2020-03-10 03:35:34  Peter Corless 🌎☮        3/7/20    4      5   \n",
       "\n",
       "      anticipation  disgust  fear  joy  negative  positive  sadness  surprise  \\\n",
       "2344             1        3     7    0         8         0        7         1   \n",
       "\n",
       "      trust  \n",
       "2344      0  "
      ]
     },
     "metadata": {},
     "output_type": "display_data"
    }
   ],
   "source": [
    "extremes('sadness')"
   ]
  },
  {
   "cell_type": "markdown",
   "metadata": {},
   "source": [
    "What are the most common words?"
   ]
  },
  {
   "cell_type": "code",
   "execution_count": 43,
   "metadata": {},
   "outputs": [],
   "source": [
    "# ax = sns.countplot(y=checkit_full['word'], data=checkit_full,order=checkit_full['word'].value_counts().iloc[:20].index).set_title('Tweet words');\n",
    "# plt.ylabel(\"\")\n",
    "# plt.xlabel(\"\")\n",
    "# plt.show()"
   ]
  },
  {
   "cell_type": "code",
   "execution_count": 44,
   "metadata": {},
   "outputs": [],
   "source": [
    "import dateutil.parser\n",
    "\n",
    "outdf_full_copy = outdf_full.copy(deep=True)\n",
    "outdf_full_copy['datestampa'] = pd.to_datetime(outdf_full_copy['timestamp'])\n",
    "outdf_full_copy['datestampb'] = outdf_full_copy['datestampa'].dt.date\n",
    "\n",
    "Before = outdf_full_copy[outdf_full_copy['datestampb']<pd.to_datetime(outdf_full_copy['dateconfirmed']).dt.date]\n",
    "After = outdf_full_copy[outdf_full_copy['datestampb']>pd.to_datetime(outdf_full_copy['dateconfirmed']).dt.date]"
   ]
  },
  {
   "cell_type": "code",
   "execution_count": 45,
   "metadata": {},
   "outputs": [],
   "source": [
    "BeforeM = pd.DataFrame(Before.groupby(['loc'])[emotions].mean())\n",
    "AfterM = pd.DataFrame(After.rename(columns={'fear':'fear2'}).groupby(['loc'])['fear2'].mean())"
   ]
  },
  {
   "cell_type": "code",
   "execution_count": 46,
   "metadata": {},
   "outputs": [
    {
     "data": {
      "text/html": [
       "<div>\n",
       "<style scoped>\n",
       "    .dataframe tbody tr th:only-of-type {\n",
       "        vertical-align: middle;\n",
       "    }\n",
       "\n",
       "    .dataframe tbody tr th {\n",
       "        vertical-align: top;\n",
       "    }\n",
       "\n",
       "    .dataframe thead th {\n",
       "        text-align: right;\n",
       "    }\n",
       "</style>\n",
       "<table border=\"1\" class=\"dataframe\">\n",
       "  <thead>\n",
       "    <tr style=\"text-align: right;\">\n",
       "      <th></th>\n",
       "      <th>anger</th>\n",
       "      <th>anticipation</th>\n",
       "      <th>disgust</th>\n",
       "      <th>fear</th>\n",
       "      <th>joy</th>\n",
       "      <th>negative</th>\n",
       "      <th>positive</th>\n",
       "      <th>sadness</th>\n",
       "      <th>surprise</th>\n",
       "      <th>trust</th>\n",
       "    </tr>\n",
       "    <tr>\n",
       "      <th>loc</th>\n",
       "      <th></th>\n",
       "      <th></th>\n",
       "      <th></th>\n",
       "      <th></th>\n",
       "      <th></th>\n",
       "      <th></th>\n",
       "      <th></th>\n",
       "      <th></th>\n",
       "      <th></th>\n",
       "      <th></th>\n",
       "    </tr>\n",
       "  </thead>\n",
       "  <tbody>\n",
       "    <tr>\n",
       "      <th>1</th>\n",
       "      <td>0.449176</td>\n",
       "      <td>0.526099</td>\n",
       "      <td>0.304945</td>\n",
       "      <td>0.722527</td>\n",
       "      <td>0.335165</td>\n",
       "      <td>1.211538</td>\n",
       "      <td>1.046703</td>\n",
       "      <td>0.527473</td>\n",
       "      <td>0.412088</td>\n",
       "      <td>0.699176</td>\n",
       "    </tr>\n",
       "    <tr>\n",
       "      <th>2</th>\n",
       "      <td>0.424754</td>\n",
       "      <td>0.528833</td>\n",
       "      <td>0.291139</td>\n",
       "      <td>0.686357</td>\n",
       "      <td>0.327707</td>\n",
       "      <td>1.097046</td>\n",
       "      <td>1.053446</td>\n",
       "      <td>0.527426</td>\n",
       "      <td>0.354430</td>\n",
       "      <td>0.720113</td>\n",
       "    </tr>\n",
       "  </tbody>\n",
       "</table>\n",
       "</div>"
      ],
      "text/plain": [
       "        anger  anticipation   disgust      fear       joy  negative  positive  \\\n",
       "loc                                                                             \n",
       "1    0.449176      0.526099  0.304945  0.722527  0.335165  1.211538  1.046703   \n",
       "2    0.424754      0.528833  0.291139  0.686357  0.327707  1.097046  1.053446   \n",
       "\n",
       "      sadness  surprise     trust  \n",
       "loc                                \n",
       "1    0.527473  0.412088  0.699176  \n",
       "2    0.527426  0.354430  0.720113  "
      ]
     },
     "execution_count": 46,
     "metadata": {},
     "output_type": "execute_result"
    }
   ],
   "source": [
    "BeforeM.head(2)"
   ]
  },
  {
   "cell_type": "code",
   "execution_count": 47,
   "metadata": {},
   "outputs": [
    {
     "data": {
      "text/html": [
       "<div>\n",
       "<style scoped>\n",
       "    .dataframe tbody tr th:only-of-type {\n",
       "        vertical-align: middle;\n",
       "    }\n",
       "\n",
       "    .dataframe tbody tr th {\n",
       "        vertical-align: top;\n",
       "    }\n",
       "\n",
       "    .dataframe thead th {\n",
       "        text-align: right;\n",
       "    }\n",
       "</style>\n",
       "<table border=\"1\" class=\"dataframe\">\n",
       "  <thead>\n",
       "    <tr style=\"text-align: right;\">\n",
       "      <th></th>\n",
       "      <th>fear2</th>\n",
       "    </tr>\n",
       "    <tr>\n",
       "      <th>loc</th>\n",
       "      <th></th>\n",
       "    </tr>\n",
       "  </thead>\n",
       "  <tbody>\n",
       "    <tr>\n",
       "      <th>1</th>\n",
       "      <td>0.647779</td>\n",
       "    </tr>\n",
       "    <tr>\n",
       "      <th>2</th>\n",
       "      <td>0.656319</td>\n",
       "    </tr>\n",
       "  </tbody>\n",
       "</table>\n",
       "</div>"
      ],
      "text/plain": [
       "        fear2\n",
       "loc          \n",
       "1    0.647779\n",
       "2    0.656319"
      ]
     },
     "execution_count": 47,
     "metadata": {},
     "output_type": "execute_result"
    }
   ],
   "source": [
    "AfterM.head(2)"
   ]
  },
  {
   "cell_type": "code",
   "execution_count": 48,
   "metadata": {},
   "outputs": [],
   "source": [
    "atloc = pd.DataFrame(BeforeM.merge(AfterM,on='loc',how='left'))\n",
    "atloc['fearincrease'] = (atloc['fear2'] > atloc['fear']).astype(int)"
   ]
  },
  {
   "cell_type": "code",
   "execution_count": 49,
   "metadata": {},
   "outputs": [
    {
     "data": {
      "text/html": [
       "<div>\n",
       "<style scoped>\n",
       "    .dataframe tbody tr th:only-of-type {\n",
       "        vertical-align: middle;\n",
       "    }\n",
       "\n",
       "    .dataframe tbody tr th {\n",
       "        vertical-align: top;\n",
       "    }\n",
       "\n",
       "    .dataframe thead th {\n",
       "        text-align: right;\n",
       "    }\n",
       "</style>\n",
       "<table border=\"1\" class=\"dataframe\">\n",
       "  <thead>\n",
       "    <tr style=\"text-align: right;\">\n",
       "      <th></th>\n",
       "      <th>anger</th>\n",
       "      <th>anticipation</th>\n",
       "      <th>disgust</th>\n",
       "      <th>fear</th>\n",
       "      <th>joy</th>\n",
       "      <th>negative</th>\n",
       "      <th>positive</th>\n",
       "      <th>sadness</th>\n",
       "      <th>surprise</th>\n",
       "      <th>trust</th>\n",
       "      <th>fear2</th>\n",
       "      <th>fearincrease</th>\n",
       "    </tr>\n",
       "    <tr>\n",
       "      <th>loc</th>\n",
       "      <th></th>\n",
       "      <th></th>\n",
       "      <th></th>\n",
       "      <th></th>\n",
       "      <th></th>\n",
       "      <th></th>\n",
       "      <th></th>\n",
       "      <th></th>\n",
       "      <th></th>\n",
       "      <th></th>\n",
       "      <th></th>\n",
       "      <th></th>\n",
       "    </tr>\n",
       "  </thead>\n",
       "  <tbody>\n",
       "    <tr>\n",
       "      <th>1</th>\n",
       "      <td>0.449176</td>\n",
       "      <td>0.526099</td>\n",
       "      <td>0.304945</td>\n",
       "      <td>0.722527</td>\n",
       "      <td>0.335165</td>\n",
       "      <td>1.211538</td>\n",
       "      <td>1.046703</td>\n",
       "      <td>0.527473</td>\n",
       "      <td>0.412088</td>\n",
       "      <td>0.699176</td>\n",
       "      <td>0.647779</td>\n",
       "      <td>0</td>\n",
       "    </tr>\n",
       "    <tr>\n",
       "      <th>2</th>\n",
       "      <td>0.424754</td>\n",
       "      <td>0.528833</td>\n",
       "      <td>0.291139</td>\n",
       "      <td>0.686357</td>\n",
       "      <td>0.327707</td>\n",
       "      <td>1.097046</td>\n",
       "      <td>1.053446</td>\n",
       "      <td>0.527426</td>\n",
       "      <td>0.354430</td>\n",
       "      <td>0.720113</td>\n",
       "      <td>0.656319</td>\n",
       "      <td>0</td>\n",
       "    </tr>\n",
       "  </tbody>\n",
       "</table>\n",
       "</div>"
      ],
      "text/plain": [
       "        anger  anticipation   disgust      fear       joy  negative  positive  \\\n",
       "loc                                                                             \n",
       "1    0.449176      0.526099  0.304945  0.722527  0.335165  1.211538  1.046703   \n",
       "2    0.424754      0.528833  0.291139  0.686357  0.327707  1.097046  1.053446   \n",
       "\n",
       "      sadness  surprise     trust     fear2  fearincrease  \n",
       "loc                                                        \n",
       "1    0.527473  0.412088  0.699176  0.647779             0  \n",
       "2    0.527426  0.354430  0.720113  0.656319             0  "
      ]
     },
     "execution_count": 49,
     "metadata": {},
     "output_type": "execute_result"
    }
   ],
   "source": [
    "atloc.head(2)"
   ]
  },
  {
   "cell_type": "code",
   "execution_count": 50,
   "metadata": {},
   "outputs": [
    {
     "data": {
      "text/html": [
       "<div>\n",
       "<style scoped>\n",
       "    .dataframe tbody tr th:only-of-type {\n",
       "        vertical-align: middle;\n",
       "    }\n",
       "\n",
       "    .dataframe tbody tr th {\n",
       "        vertical-align: top;\n",
       "    }\n",
       "\n",
       "    .dataframe thead th {\n",
       "        text-align: right;\n",
       "    }\n",
       "</style>\n",
       "<table border=\"1\" class=\"dataframe\">\n",
       "  <thead>\n",
       "    <tr style=\"text-align: right;\">\n",
       "      <th></th>\n",
       "      <th>anger</th>\n",
       "      <th>anticipation</th>\n",
       "      <th>disgust</th>\n",
       "      <th>fear</th>\n",
       "      <th>joy</th>\n",
       "      <th>negative</th>\n",
       "      <th>positive</th>\n",
       "      <th>sadness</th>\n",
       "      <th>surprise</th>\n",
       "      <th>trust</th>\n",
       "      <th>fear2</th>\n",
       "      <th>fearincrease</th>\n",
       "    </tr>\n",
       "    <tr>\n",
       "      <th>loc</th>\n",
       "      <th></th>\n",
       "      <th></th>\n",
       "      <th></th>\n",
       "      <th></th>\n",
       "      <th></th>\n",
       "      <th></th>\n",
       "      <th></th>\n",
       "      <th></th>\n",
       "      <th></th>\n",
       "      <th></th>\n",
       "      <th></th>\n",
       "      <th></th>\n",
       "    </tr>\n",
       "  </thead>\n",
       "  <tbody>\n",
       "    <tr>\n",
       "      <th>6</th>\n",
       "      <td>0.281250</td>\n",
       "      <td>0.437500</td>\n",
       "      <td>0.218750</td>\n",
       "      <td>0.510417</td>\n",
       "      <td>0.291667</td>\n",
       "      <td>0.906250</td>\n",
       "      <td>1.010417</td>\n",
       "      <td>0.312500</td>\n",
       "      <td>0.239583</td>\n",
       "      <td>0.593750</td>\n",
       "      <td>0.611111</td>\n",
       "      <td>1</td>\n",
       "    </tr>\n",
       "    <tr>\n",
       "      <th>7</th>\n",
       "      <td>0.347826</td>\n",
       "      <td>0.456522</td>\n",
       "      <td>0.260870</td>\n",
       "      <td>0.456522</td>\n",
       "      <td>0.358696</td>\n",
       "      <td>1.163043</td>\n",
       "      <td>0.836957</td>\n",
       "      <td>0.456522</td>\n",
       "      <td>0.358696</td>\n",
       "      <td>0.489130</td>\n",
       "      <td>0.540541</td>\n",
       "      <td>1</td>\n",
       "    </tr>\n",
       "    <tr>\n",
       "      <th>9</th>\n",
       "      <td>0.376344</td>\n",
       "      <td>0.612903</td>\n",
       "      <td>0.311828</td>\n",
       "      <td>0.591398</td>\n",
       "      <td>0.344086</td>\n",
       "      <td>1.021505</td>\n",
       "      <td>0.924731</td>\n",
       "      <td>0.354839</td>\n",
       "      <td>0.354839</td>\n",
       "      <td>0.709677</td>\n",
       "      <td>0.652778</td>\n",
       "      <td>1</td>\n",
       "    </tr>\n",
       "  </tbody>\n",
       "</table>\n",
       "</div>"
      ],
      "text/plain": [
       "        anger  anticipation   disgust      fear       joy  negative  positive  \\\n",
       "loc                                                                             \n",
       "6    0.281250      0.437500  0.218750  0.510417  0.291667  0.906250  1.010417   \n",
       "7    0.347826      0.456522  0.260870  0.456522  0.358696  1.163043  0.836957   \n",
       "9    0.376344      0.612903  0.311828  0.591398  0.344086  1.021505  0.924731   \n",
       "\n",
       "      sadness  surprise     trust     fear2  fearincrease  \n",
       "loc                                                        \n",
       "6    0.312500  0.239583  0.593750  0.611111             1  \n",
       "7    0.456522  0.358696  0.489130  0.540541             1  \n",
       "9    0.354839  0.354839  0.709677  0.652778             1  "
      ]
     },
     "execution_count": 50,
     "metadata": {},
     "output_type": "execute_result"
    }
   ],
   "source": [
    "atloc[atloc['fearincrease']==1].head(3)"
   ]
  },
  {
   "cell_type": "code",
   "execution_count": 51,
   "metadata": {},
   "outputs": [
    {
     "data": {
      "image/png": "[encoded data removed]",
      "text/plain": [
       "<Figure size 432x360 with 2 Axes>"
      ]
     },
     "metadata": {
      "needs_background": "light"
     },
     "output_type": "display_data"
    }
   ],
   "source": [
    "corr = atloc.corr()\n",
    "mask = np.triu(np.ones_like(corr, dtype=np.bool))\n",
    "plt.figure(figsize=(6,5))\n",
    "sns.heatmap(corr,vmin=-1,cmap='coolwarm',mask=mask);"
   ]
  },
  {
   "cell_type": "markdown",
   "metadata": {},
   "source": [
    "### Prep & Baseline Accuracy"
   ]
  },
  {
   "cell_type": "code",
   "execution_count": 52,
   "metadata": {},
   "outputs": [],
   "source": [
    "X = atloc[['anger','anticipation','disgust','fear','joy','sadness','surprise','trust']]\n",
    "y = atloc['fearincrease']\n",
    "\n",
    "X_train, X_test, y_train, y_test = train_test_split(X,y, random_state=202)\n",
    "\n",
    "scaler = StandardScaler()\n",
    "X_train = scaler.fit_transform(X_train)\n",
    "X_test = scaler.transform(X_test)"
   ]
  },
  {
   "cell_type": "code",
   "execution_count": 53,
   "metadata": {},
   "outputs": [
    {
     "data": {
      "text/plain": [
       "0    0.757576\n",
       "1    0.242424\n",
       "Name: fearincrease, dtype: float64"
      ]
     },
     "execution_count": 53,
     "metadata": {},
     "output_type": "execute_result"
    }
   ],
   "source": [
    "y_test.value_counts(normalize=True)"
   ]
  },
  {
   "cell_type": "markdown",
   "metadata": {},
   "source": [
    "### Model 1: Logistic Regression"
   ]
  },
  {
   "cell_type": "code",
   "execution_count": 54,
   "metadata": {},
   "outputs": [],
   "source": [
    "logreg = LogisticRegression()\n",
    "\n",
    "penalty = ['l1', 'l2']\n",
    "C = np.logspace(0, 4, 10)\n",
    "hyperparameters = dict(C=C, penalty=penalty)\n",
    "\n",
    "clf = GridSearchCV(logreg, hyperparameters, cv=5, verbose=0)"
   ]
  },
  {
   "cell_type": "code",
   "execution_count": null,
   "metadata": {},
   "outputs": [],
   "source": [
    "best_model = clf.fit(X_train, y_train)"
   ]
  },
  {
   "cell_type": "code",
   "execution_count": 56,
   "metadata": {},
   "outputs": [
    {
     "name": "stdout",
     "output_type": "stream",
     "text": [
      "Best Penalty: l1\n",
      "Best C: 1.0\n"
     ]
    }
   ],
   "source": [
    "print('Best Penalty:', best_model.best_estimator_.get_params()['penalty'])\n",
    "print('Best C:', best_model.best_estimator_.get_params()['C'])"
   ]
  },
  {
   "cell_type": "code",
   "execution_count": 57,
   "metadata": {},
   "outputs": [
    {
     "name": "stderr",
     "output_type": "stream",
     "text": [
      "C:\\Users\\laure\\Anaconda3\\lib\\site-packages\\sklearn\\linear_model\\logistic.py:432: FutureWarning: Default solver will be changed to 'lbfgs' in 0.22. Specify a solver to silence this warning.\n",
      "  FutureWarning)\n"
     ]
    }
   ],
   "source": [
    "lr2 = LogisticRegression(C=1,penalty=\"l1\")\n",
    "lr2.fit(X_train,y_train)\n",
    "y_hat_train = lr2.predict(X_train)"
   ]
  },
  {
   "cell_type": "code",
   "execution_count": 58,
   "metadata": {},
   "outputs": [
    {
     "data": {
      "text/plain": [
       "array([[63,  6],\n",
       "       [15, 14]], dtype=int64)"
      ]
     },
     "execution_count": 58,
     "metadata": {},
     "output_type": "execute_result"
    }
   ],
   "source": [
    "confusion_matrix(y_train,y_hat_train)"
   ]
  },
  {
   "cell_type": "code",
   "execution_count": 59,
   "metadata": {},
   "outputs": [
    {
     "data": {
      "text/plain": [
       "array([[25,  0],\n",
       "       [ 5,  3]], dtype=int64)"
      ]
     },
     "execution_count": 59,
     "metadata": {},
     "output_type": "execute_result"
    }
   ],
   "source": [
    "y_hat_test = lr2.predict(X_test)\n",
    "confusion_matrix(y_test,y_hat_test)"
   ]
  },
  {
   "cell_type": "code",
   "execution_count": 60,
   "metadata": {},
   "outputs": [
    {
     "data": {
      "text/plain": [
       "0.7857142857142857"
      ]
     },
     "metadata": {},
     "output_type": "display_data"
    },
    {
     "data": {
      "text/plain": [
       "0.8484848484848485"
      ]
     },
     "metadata": {},
     "output_type": "display_data"
    }
   ],
   "source": [
    "display(lr2.score(X_train, y_train))\n",
    "display(lr2.score(X_test, y_test))"
   ]
  },
  {
   "cell_type": "code",
   "execution_count": 61,
   "metadata": {},
   "outputs": [
    {
     "data": {
      "image/png": "[encoded data removed]",
      "text/plain": [
       "<Figure size 360x288 with 1 Axes>"
      ]
     },
     "metadata": {
      "needs_background": "light"
     },
     "output_type": "display_data"
    }
   ],
   "source": [
    "y_train_score = lr2.predict_proba(X_train)[:,1]\n",
    "y_test_score = lr2.predict_proba(X_test)[:,1]\n",
    "\n",
    "train_fpr, train_tpr, thresholds = roc_curve(y_train, y_train_score)\n",
    "test_fpr, test_tpr, thresholds = roc_curve(y_test, y_test_score)\n",
    "\n",
    "plt.figure(figsize=(5, 4))\n",
    "plt.plot(train_fpr, train_tpr, color='green', lw=2, label='Training ROC curve')\n",
    "plt.plot(test_fpr, test_tpr, color='blue', lw=2, label='Testing ROC curve')\n",
    "plt.plot([0, 1], [0, 1], color='navy', linestyle='--')\n",
    "\n",
    "plt.xlim([0.0, 1.0])\n",
    "plt.ylim([0.0, 1.0])\n",
    "\n",
    "plt.xlabel('False Positive Rate')\n",
    "plt.ylabel('True Positive Rate')\n",
    "\n",
    "plt.title('Receiver operating characteristic (ROC) Curve for Training Set')\n",
    "\n",
    "plt.legend(loc=4)\n",
    "plt.show();"
   ]
  },
  {
   "cell_type": "markdown",
   "metadata": {},
   "source": [
    "### Model 2: KNN"
   ]
  },
  {
   "cell_type": "code",
   "execution_count": 62,
   "metadata": {},
   "outputs": [],
   "source": [
    "k_range = list(range(1, 40))\n",
    "\n",
    "training_error = []\n",
    "testing_error = []\n",
    "\n",
    "for k in k_range:\n",
    "\n",
    "    knn = KNeighborsClassifier(n_neighbors=k)\n",
    "    knn.fit(X_train, y_train)\n",
    "    \n",
    "    y_pred_class = knn.predict(X_train)\n",
    "    training_accuracy = metrics.accuracy_score(y_train, y_pred_class)\n",
    "    training_error.append(1 - training_accuracy)\n",
    "    \n",
    "    y_pred_class = knn.predict(X_test)\n",
    "    testing_accuracy = metrics.accuracy_score(y_test, y_pred_class)\n",
    "    testing_error.append(1 - testing_accuracy)"
   ]
  },
  {
   "cell_type": "code",
   "execution_count": 63,
   "metadata": {},
   "outputs": [
    {
     "data": {
      "text/html": [
       "<div>\n",
       "<style scoped>\n",
       "    .dataframe tbody tr th:only-of-type {\n",
       "        vertical-align: middle;\n",
       "    }\n",
       "\n",
       "    .dataframe tbody tr th {\n",
       "        vertical-align: top;\n",
       "    }\n",
       "\n",
       "    .dataframe thead th {\n",
       "        text-align: right;\n",
       "    }\n",
       "</style>\n",
       "<table border=\"1\" class=\"dataframe\">\n",
       "  <thead>\n",
       "    <tr style=\"text-align: right;\">\n",
       "      <th></th>\n",
       "      <th>training error</th>\n",
       "      <th>testing error</th>\n",
       "    </tr>\n",
       "    <tr>\n",
       "      <th>K</th>\n",
       "      <th></th>\n",
       "      <th></th>\n",
       "    </tr>\n",
       "  </thead>\n",
       "  <tbody>\n",
       "    <tr>\n",
       "      <th>2</th>\n",
       "      <td>0.163265</td>\n",
       "      <td>0.151515</td>\n",
       "    </tr>\n",
       "  </tbody>\n",
       "</table>\n",
       "</div>"
      ],
      "text/plain": [
       "   training error  testing error\n",
       "K                               \n",
       "2        0.163265       0.151515"
      ]
     },
     "execution_count": 63,
     "metadata": {},
     "output_type": "execute_result"
    }
   ],
   "source": [
    "column_dict = {'K': k_range, 'training error':training_error, 'testing error':testing_error}\n",
    "df = pd.DataFrame(column_dict).set_index('K')\n",
    "df.sort_values('testing error').head(1)"
   ]
  },
  {
   "cell_type": "code",
   "execution_count": 64,
   "metadata": {},
   "outputs": [
    {
     "data": {
      "image/png": "[encoded data removed]",
      "text/plain": [
       "<Figure size 432x288 with 1 Axes>"
      ]
     },
     "metadata": {
      "needs_background": "light"
     },
     "output_type": "display_data"
    }
   ],
   "source": [
    "df.plot(figsize=(6, 4), title='Training and test scores');\n",
    "plt.xlabel('Value of K for KNN');\n",
    "plt.ylabel('Error (lower is better)');"
   ]
  },
  {
   "cell_type": "code",
   "execution_count": 65,
   "metadata": {},
   "outputs": [],
   "source": [
    "knn = KNeighborsClassifier(n_neighbors=2)\n",
    "knn.fit(X_train, y_train)\n",
    "y_pred_class = knn.predict(X_test)"
   ]
  },
  {
   "cell_type": "code",
   "execution_count": 66,
   "metadata": {},
   "outputs": [
    {
     "data": {
      "text/plain": [
       "0.8367346938775511"
      ]
     },
     "metadata": {},
     "output_type": "display_data"
    },
    {
     "data": {
      "text/plain": [
       "0.8484848484848485"
      ]
     },
     "metadata": {},
     "output_type": "display_data"
    }
   ],
   "source": [
    "display(knn.score(X_train, y_train))\n",
    "display(knn.score(X_test, y_test))"
   ]
  },
  {
   "cell_type": "code",
   "execution_count": 67,
   "metadata": {},
   "outputs": [
    {
     "data": {
      "text/plain": [
       "array([[69,  0],\n",
       "       [16, 13]], dtype=int64)"
      ]
     },
     "execution_count": 67,
     "metadata": {},
     "output_type": "execute_result"
    }
   ],
   "source": [
    "y_hat_train = knn.predict(X_train)\n",
    "confusion_matrix(y_train,y_hat_train)"
   ]
  },
  {
   "cell_type": "code",
   "execution_count": 68,
   "metadata": {},
   "outputs": [
    {
     "data": {
      "text/plain": [
       "array([[25,  0],\n",
       "       [ 5,  3]], dtype=int64)"
      ]
     },
     "execution_count": 68,
     "metadata": {},
     "output_type": "execute_result"
    }
   ],
   "source": [
    "y_hat_test = knn.predict(X_test)\n",
    "confusion_matrix(y_test,y_hat_test)"
   ]
  },
  {
   "cell_type": "markdown",
   "metadata": {},
   "source": [
    "### Model 3: Gradient Boosting Classifier"
   ]
  },
  {
   "cell_type": "code",
   "execution_count": 69,
   "metadata": {},
   "outputs": [
    {
     "name": "stderr",
     "output_type": "stream",
     "text": [
      "C:\\Users\\laure\\Anaconda3\\lib\\site-packages\\sklearn\\model_selection\\_search.py:814: DeprecationWarning: The default of the `iid` parameter will change from True to False in version 0.22 and will be removed in 0.24. This will change numeric results when test-set sizes are unequal.\n",
      "  DeprecationWarning)\n"
     ]
    },
    {
     "data": {
      "text/plain": [
       "GridSearchCV(cv=3, error_score='raise-deprecating',\n",
       "             estimator=GradientBoostingClassifier(criterion='friedman_mse',\n",
       "                                                  init=None, learning_rate=0.1,\n",
       "                                                  loss='deviance', max_depth=3,\n",
       "                                                  max_features=None,\n",
       "                                                  max_leaf_nodes=None,\n",
       "                                                  min_impurity_decrease=0.0,\n",
       "                                                  min_impurity_split=None,\n",
       "                                                  min_samples_leaf=1,\n",
       "                                                  min_samples_split=2,\n",
       "                                                  min_weight_fraction_leaf=0.0,\n",
       "                                                  n_estimators=100,\n",
       "                                                  n_iter_no_change=None,\n",
       "                                                  presort='auto',\n",
       "                                                  random_state=None,\n",
       "                                                  subsample=1.0, tol=0.0001,\n",
       "                                                  validation_fraction=0.1,\n",
       "                                                  verbose=0, warm_start=False),\n",
       "             iid='warn', n_jobs=None,\n",
       "             param_grid={'learning_rate': [0.08, 0.1, 0.12],\n",
       "                         'max_depth': [2, 3, 4],\n",
       "                         'n_estimators': [100, 125, 150]},\n",
       "             pre_dispatch='2*n_jobs', refit=True, return_train_score=False,\n",
       "             scoring=None, verbose=0)"
      ]
     },
     "execution_count": 69,
     "metadata": {},
     "output_type": "execute_result"
    }
   ],
   "source": [
    "gboost = GradientBoostingClassifier()\n",
    "gboost_params = {\n",
    "    'max_depth': [2,3,4],\n",
    "    'n_estimators': [100, 125, 150],\n",
    "    'learning_rate': [.08, .1, .12]\n",
    "}\n",
    "gb_gs = GridSearchCV(gboost, param_grid=gboost_params, cv=3)\n",
    "gb_gs.fit(X_train, y_train)"
   ]
  },
  {
   "cell_type": "code",
   "execution_count": 70,
   "metadata": {},
   "outputs": [
    {
     "data": {
      "text/plain": [
       "0.7040816326530612"
      ]
     },
     "execution_count": 70,
     "metadata": {},
     "output_type": "execute_result"
    }
   ],
   "source": [
    "gb_gs.best_score_"
   ]
  },
  {
   "cell_type": "code",
   "execution_count": 71,
   "metadata": {},
   "outputs": [
    {
     "data": {
      "text/plain": [
       "{'learning_rate': 0.08, 'max_depth': 2, 'n_estimators': 125}"
      ]
     },
     "execution_count": 71,
     "metadata": {},
     "output_type": "execute_result"
    }
   ],
   "source": [
    "gb_gs.best_params_"
   ]
  },
  {
   "cell_type": "code",
   "execution_count": 72,
   "metadata": {},
   "outputs": [],
   "source": [
    "gboost = GradientBoostingClassifier(learning_rate=0.08, max_depth=2, n_estimators=100)\n",
    "gboost.fit(X_train, y_train)\n",
    "y_pred_class = gboost.predict(X_test)"
   ]
  },
  {
   "cell_type": "code",
   "execution_count": 73,
   "metadata": {},
   "outputs": [
    {
     "data": {
      "text/plain": [
       "1.0"
      ]
     },
     "metadata": {},
     "output_type": "display_data"
    },
    {
     "data": {
      "text/plain": [
       "0.8181818181818182"
      ]
     },
     "metadata": {},
     "output_type": "display_data"
    }
   ],
   "source": [
    "display(gboost.score(X_train, y_train))\n",
    "display(gboost.score(X_test, y_test))"
   ]
  },
  {
   "cell_type": "code",
   "execution_count": 74,
   "metadata": {},
   "outputs": [
    {
     "data": {
      "text/plain": [
       "array([[69,  0],\n",
       "       [ 0, 29]], dtype=int64)"
      ]
     },
     "execution_count": 74,
     "metadata": {},
     "output_type": "execute_result"
    }
   ],
   "source": [
    "y_hat_train = gboost.predict(X_train)\n",
    "confusion_matrix(y_train,y_hat_train)"
   ]
  },
  {
   "cell_type": "code",
   "execution_count": 75,
   "metadata": {},
   "outputs": [
    {
     "data": {
      "text/plain": [
       "array([[23,  2],\n",
       "       [ 4,  4]], dtype=int64)"
      ]
     },
     "execution_count": 75,
     "metadata": {},
     "output_type": "execute_result"
    }
   ],
   "source": [
    "y_hat_test = gboost.predict(X_test)\n",
    "confusion_matrix(y_test,y_hat_test)"
   ]
  },
  {
   "cell_type": "markdown",
   "metadata": {},
   "source": [
    "### Model 4: Decision Tree Classifier"
   ]
  },
  {
   "cell_type": "code",
   "execution_count": 76,
   "metadata": {},
   "outputs": [
    {
     "name": "stderr",
     "output_type": "stream",
     "text": [
      "C:\\Users\\laure\\Anaconda3\\lib\\site-packages\\sklearn\\model_selection\\_search.py:814: DeprecationWarning: The default of the `iid` parameter will change from True to False in version 0.22 and will be removed in 0.24. This will change numeric results when test-set sizes are unequal.\n",
      "  DeprecationWarning)\n"
     ]
    },
    {
     "data": {
      "text/plain": [
       "GridSearchCV(cv=5, error_score='raise-deprecating',\n",
       "             estimator=DecisionTreeClassifier(class_weight=None,\n",
       "                                              criterion='gini', max_depth=None,\n",
       "                                              max_features=None,\n",
       "                                              max_leaf_nodes=None,\n",
       "                                              min_impurity_decrease=0.0,\n",
       "                                              min_impurity_split=None,\n",
       "                                              min_samples_leaf=1,\n",
       "                                              min_samples_split=2,\n",
       "                                              min_weight_fraction_leaf=0.0,\n",
       "                                              presort=False, random_state=None,\n",
       "                                              splitter='best'),\n",
       "             iid='warn', n_jobs=None,\n",
       "             param_grid={'criterion': ['gini', 'entropy'],\n",
       "                         'max_depth': [4, 5, 6, 7, 8, 9, 10, 11, 12, 15, 20, 30,\n",
       "                                       40, 50, 70, 90, 120, 150]},\n",
       "             pre_dispatch='2*n_jobs', refit=True, return_train_score=False,\n",
       "             scoring=None, verbose=0)"
      ]
     },
     "execution_count": 76,
     "metadata": {},
     "output_type": "execute_result"
    }
   ],
   "source": [
    "dt = DecisionTreeClassifier()\n",
    "tree_para = {'criterion':['gini','entropy'],'max_depth':[4,5,6,7,8,9,10,11,12,15,20,30,40,50,70,90,120,150]}\n",
    "clf = GridSearchCV(dt, tree_para, cv=5)\n",
    "clf.fit(X_train, y_train)"
   ]
  },
  {
   "cell_type": "code",
   "execution_count": 77,
   "metadata": {},
   "outputs": [
    {
     "data": {
      "text/plain": [
       "0.6938775510204082"
      ]
     },
     "execution_count": 77,
     "metadata": {},
     "output_type": "execute_result"
    }
   ],
   "source": [
    "clf.best_score_"
   ]
  },
  {
   "cell_type": "code",
   "execution_count": 78,
   "metadata": {},
   "outputs": [
    {
     "data": {
      "text/plain": [
       "{'criterion': 'entropy', 'max_depth': 90}"
      ]
     },
     "execution_count": 78,
     "metadata": {},
     "output_type": "execute_result"
    }
   ],
   "source": [
    "clf.best_params_"
   ]
  },
  {
   "cell_type": "code",
   "execution_count": 79,
   "metadata": {},
   "outputs": [],
   "source": [
    "dt = DecisionTreeClassifier(criterion='entropy',max_depth=90)\n",
    "dt.fit(X_train, y_train)\n",
    "y_pred_class = dt.predict(X_test)"
   ]
  },
  {
   "cell_type": "code",
   "execution_count": 80,
   "metadata": {},
   "outputs": [
    {
     "data": {
      "text/plain": [
       "1.0"
      ]
     },
     "metadata": {},
     "output_type": "display_data"
    },
    {
     "data": {
      "text/plain": [
       "0.696969696969697"
      ]
     },
     "metadata": {},
     "output_type": "display_data"
    }
   ],
   "source": [
    "display(dt.score(X_train, y_train))\n",
    "display(dt.score(X_test, y_test))"
   ]
  },
  {
   "cell_type": "code",
   "execution_count": 81,
   "metadata": {},
   "outputs": [
    {
     "data": {
      "text/plain": [
       "array([[69,  0],\n",
       "       [ 0, 29]], dtype=int64)"
      ]
     },
     "execution_count": 81,
     "metadata": {},
     "output_type": "execute_result"
    }
   ],
   "source": [
    "y_hat_train = dt.predict(X_train)\n",
    "confusion_matrix(y_train,y_hat_train)"
   ]
  },
  {
   "cell_type": "code",
   "execution_count": 82,
   "metadata": {},
   "outputs": [
    {
     "data": {
      "text/plain": [
       "array([[19,  6],\n",
       "       [ 4,  4]], dtype=int64)"
      ]
     },
     "execution_count": 82,
     "metadata": {},
     "output_type": "execute_result"
    }
   ],
   "source": [
    "y_hat_test = dt.predict(X_test)\n",
    "confusion_matrix(y_test,y_hat_test)"
   ]
  },
  {
   "cell_type": "code",
   "execution_count": null,
   "metadata": {},
   "outputs": [],
   "source": []
  }
 ],
 "metadata": {
  "kernelspec": {
   "display_name": "Python 3",
   "language": "python",
   "name": "python3"
  },
  "language_info": {
   "codemirror_mode": {
    "name": "ipython",
    "version": 3
   },
   "file_extension": ".py",
   "mimetype": "text/x-python",
   "name": "python",
   "nbconvert_exporter": "python",
   "pygments_lexer": "ipython3",
   "version": "3.7.4"
  }
 },
 "nbformat": 4,
 "nbformat_minor": 4
}
